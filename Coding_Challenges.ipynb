{
  "nbformat": 4,
  "nbformat_minor": 0,
  "metadata": {
    "colab": {
      "provenance": [],
      "toc_visible": true,
      "authorship_tag": "ABX9TyPX1VdZsWsn2aqQ4+PPyrum",
      "include_colab_link": true
    },
    "kernelspec": {
      "name": "python3",
      "display_name": "Python 3"
    },
    "language_info": {
      "name": "python"
    }
  },
  "cells": [
    {
      "cell_type": "markdown",
      "metadata": {
        "id": "view-in-github",
        "colab_type": "text"
      },
      "source": [
        "<a href=\"https://colab.research.google.com/github/dominicbiela/python-challenges/blob/main/Coding_Challenges.ipynb\" target=\"_parent\"><img src=\"https://colab.research.google.com/assets/colab-badge.svg\" alt=\"Open In Colab\"/></a>"
      ]
    },
    {
      "cell_type": "markdown",
      "source": [
        "# Fibonnaci Sequence"
      ],
      "metadata": {
        "id": "1UquDPWifUJK"
      }
    },
    {
      "cell_type": "code",
      "source": [
        "def fib(num:int)->int:\n",
        "  a,b = 0,1\n",
        "  for _ in range(num):\n",
        "    a,b = b, b + a\n",
        "  return a"
      ],
      "metadata": {
        "id": "AI0Y8d_GfT79"
      },
      "execution_count": null,
      "outputs": []
    },
    {
      "cell_type": "code",
      "source": [
        "fib(10)"
      ],
      "metadata": {
        "colab": {
          "base_uri": "https://localhost:8080/"
        },
        "id": "7z9gwBdbfmk6",
        "outputId": "ed2761aa-4c86-4389-8b8e-501c8cf77ecb"
      },
      "execution_count": null,
      "outputs": [
        {
          "output_type": "execute_result",
          "data": {
            "text/plain": [
              "55"
            ]
          },
          "metadata": {},
          "execution_count": 7
        }
      ]
    },
    {
      "cell_type": "markdown",
      "source": [
        "# Array & Hashing"
      ],
      "metadata": {
        "id": "bZJlkorzCInl"
      }
    },
    {
      "cell_type": "markdown",
      "source": [
        "## Reverse String"
      ],
      "metadata": {
        "id": "ODZtCjJy0qkF"
      }
    },
    {
      "cell_type": "code",
      "execution_count": null,
      "metadata": {
        "id": "Kqlm3lqiQW0a"
      },
      "outputs": [],
      "source": [
        "str = \"We will conquere COVID-19\""
      ]
    },
    {
      "cell_type": "code",
      "source": [
        "str[::-1]"
      ],
      "metadata": {
        "colab": {
          "base_uri": "https://localhost:8080/",
          "height": 35
        },
        "id": "IoypTVFnQfWS",
        "outputId": "f5c9ce55-2e2d-43b0-a710-f8cbca563612"
      },
      "execution_count": null,
      "outputs": [
        {
          "output_type": "execute_result",
          "data": {
            "text/plain": [
              "'91-DIVOC ereuqnoc lliw eW'"
            ],
            "application/vnd.google.colaboratory.intrinsic+json": {
              "type": "string"
            }
          },
          "metadata": {},
          "execution_count": 7
        }
      ]
    },
    {
      "cell_type": "markdown",
      "source": [
        "## Reverse String with words still in right order"
      ],
      "metadata": {
        "id": "5QEghA7E021F"
      }
    },
    {
      "cell_type": "code",
      "source": [
        "\" \".join([s[::-1] for s in str.split()])"
      ],
      "metadata": {
        "colab": {
          "base_uri": "https://localhost:8080/",
          "height": 35
        },
        "id": "Y42fJjoj06WJ",
        "outputId": "01b68054-26ed-4997-d8c7-c65783e6e8f8"
      },
      "execution_count": null,
      "outputs": [
        {
          "output_type": "execute_result",
          "data": {
            "text/plain": [
              "'eW lliw ereuqnoc 91-DIVOC'"
            ],
            "application/vnd.google.colaboratory.intrinsic+json": {
              "type": "string"
            }
          },
          "metadata": {},
          "execution_count": 16
        }
      ]
    },
    {
      "cell_type": "markdown",
      "source": [
        "## Contains duplicates"
      ],
      "metadata": {
        "id": "3CgRraGN2Tdj"
      }
    },
    {
      "cell_type": "markdown",
      "source": [
        "### Option 1"
      ],
      "metadata": {
        "id": "7ZKR2IRD8D3u"
      }
    },
    {
      "cell_type": "code",
      "source": [
        "def containsDuplicate(nums: list[int]) -> bool:\n",
        "  return True if len(nums) != len(set(nums)) else False"
      ],
      "metadata": {
        "id": "MO5J-rw4rDnA"
      },
      "execution_count": null,
      "outputs": []
    },
    {
      "cell_type": "code",
      "source": [
        "nums = [[1,2,3,1],\n",
        "        [1,2,3,4],\n",
        "        [1,1,1,3,3,4,3,2,4,2]]"
      ],
      "metadata": {
        "id": "H25syILI2im8"
      },
      "execution_count": null,
      "outputs": []
    },
    {
      "cell_type": "code",
      "source": [
        "%time\n",
        "for n in nums:\n",
        "  print(containsDuplicate(n))"
      ],
      "metadata": {
        "colab": {
          "base_uri": "https://localhost:8080/"
        },
        "id": "JgtCD5X43UcU",
        "outputId": "62f7eee0-bd86-41f0-bab2-fa2a3310c622"
      },
      "execution_count": null,
      "outputs": [
        {
          "output_type": "stream",
          "name": "stdout",
          "text": [
            "CPU times: user 6 µs, sys: 0 ns, total: 6 µs\n",
            "Wall time: 10.3 µs\n",
            "True\n",
            "False\n",
            "True\n"
          ]
        }
      ]
    },
    {
      "cell_type": "markdown",
      "source": [
        "### Option 2"
      ],
      "metadata": {
        "id": "tNu-0caV8Bjj"
      }
    },
    {
      "cell_type": "code",
      "source": [
        "def containsDuplicate1(nums: list[int]) -> bool:\n",
        "  hashset = set()\n",
        "\n",
        "  for n in nums:\n",
        "    if n in hashset:\n",
        "      return True\n",
        "    hashset.add(n)\n",
        "  return False"
      ],
      "metadata": {
        "id": "wYZDvwRy3bzc"
      },
      "execution_count": null,
      "outputs": []
    },
    {
      "cell_type": "code",
      "source": [
        "from collections import defaultdict\n",
        "def containsDuplicate2(nums: list[int]) -> bool:\n",
        "  hashset = set()\n",
        "  return any([True if n in hashset else hashset.add(n) for n in nums])"
      ],
      "metadata": {
        "id": "eidrelixDaYn"
      },
      "execution_count": null,
      "outputs": []
    },
    {
      "cell_type": "markdown",
      "source": [
        "## First Duplicate"
      ],
      "metadata": {
        "id": "c7TfjCac6GBa"
      }
    },
    {
      "cell_type": "code",
      "source": [
        "a = [2, 1, 3, 5, 3, 2]\n",
        "b = [2, 1, 7, 5, 3, 4]"
      ],
      "metadata": {
        "id": "tnB7JMxT6ZI6"
      },
      "execution_count": 20,
      "outputs": []
    },
    {
      "cell_type": "code",
      "source": [
        "def firstDuplicate(nums: list[int]) -> int:\n",
        "  hashset = set()\n",
        "  for n in nums:\n",
        "    if n in hashset:\n",
        "      return n\n",
        "    hashset.add(n)\n",
        "  return -1"
      ],
      "metadata": {
        "id": "4FMDyFJF6Men"
      },
      "execution_count": 18,
      "outputs": []
    },
    {
      "cell_type": "code",
      "source": [
        "print(firstDuplicate(a))\n",
        "print(firstDuplicate(b))"
      ],
      "metadata": {
        "colab": {
          "base_uri": "https://localhost:8080/"
        },
        "id": "viMllxGp6Z1B",
        "outputId": "b0e9dcea-87bc-459e-b3a3-889cf3e83056"
      },
      "execution_count": 22,
      "outputs": [
        {
          "output_type": "stream",
          "name": "stdout",
          "text": [
            "3\n",
            "-1\n"
          ]
        }
      ]
    },
    {
      "cell_type": "markdown",
      "source": [
        "## First Non-duplicate"
      ],
      "metadata": {
        "id": "ltYvndR56yTA"
      }
    },
    {
      "cell_type": "code",
      "source": [
        "s = \"abacabad\"\n",
        "t = \"abacabaabacaba\""
      ],
      "metadata": {
        "id": "Pd0sp6RB6yTK"
      },
      "execution_count": 24,
      "outputs": []
    },
    {
      "cell_type": "code",
      "source": [
        "from collections import Counter\n",
        "def firstNonDuplicate(s: str) -> str:\n",
        "    scount = Counter(s)\n",
        "    if min(scount.values()) > 1:\n",
        "        return \"_\"\n",
        "\n",
        "    for i,v in enumerate(s):\n",
        "        if v in scount and scount[v] == 1:\n",
        "            return s[i]"
      ],
      "metadata": {
        "id": "kpnAb2ru6yTK"
      },
      "execution_count": 27,
      "outputs": []
    },
    {
      "cell_type": "code",
      "source": [
        "print(firstNonDuplicate(s))\n",
        "print(firstNonDuplicate(t))"
      ],
      "metadata": {
        "colab": {
          "base_uri": "https://localhost:8080/"
        },
        "outputId": "82557481-ab02-41ef-aa19-c2f76aed4d7d",
        "id": "fNdl8dYA6yTL"
      },
      "execution_count": 28,
      "outputs": [
        {
          "output_type": "stream",
          "name": "stdout",
          "text": [
            "c\n",
            "_\n"
          ]
        }
      ]
    },
    {
      "cell_type": "markdown",
      "source": [
        "## Valid Anagram"
      ],
      "metadata": {
        "id": "kYRuqAPRCMXg"
      }
    },
    {
      "cell_type": "code",
      "source": [
        "s = \"anagram\"\n",
        "t = \"nagaram\""
      ],
      "metadata": {
        "id": "ow6CqV2gChWv"
      },
      "execution_count": null,
      "outputs": []
    },
    {
      "cell_type": "code",
      "source": [
        "def isAnagram(s: str, t: str) -> bool:\n",
        "  return sorted(s) == sorted(t)"
      ],
      "metadata": {
        "id": "q-UGDtLkCPZt"
      },
      "execution_count": null,
      "outputs": []
    },
    {
      "cell_type": "code",
      "source": [
        "from collections import Counter\n",
        "def isAnagram1(s: str, t: str) -> bool:\n",
        "  return Counter(s) == Counter(t)"
      ],
      "metadata": {
        "id": "YAFhs68EFbs0"
      },
      "execution_count": null,
      "outputs": []
    },
    {
      "cell_type": "code",
      "source": [
        "from collections import defaultdict\n",
        "def isAnagram2(s: str, t: str) -> bool:\n",
        "  if len(s)!= len(t):\n",
        "    return False\n",
        "\n",
        "  shash, thash = defaultdict(int), defaultdict(int)\n",
        "\n",
        "  for i in range(len(s)):\n",
        "    shash[s[i]] = 1 + shash.get(s[i],0)\n",
        "    thash[s[i]] = 1 + thash.get(t[i],0)\n",
        "  for c in shash:\n",
        "    if shash[c] != thash.get(c,0):\n",
        "      return False\n",
        "  return True"
      ],
      "metadata": {
        "id": "0Alzgt2MEnSD"
      },
      "execution_count": null,
      "outputs": []
    },
    {
      "cell_type": "code",
      "source": [
        "%time\n",
        "isAnagram(s,t)"
      ],
      "metadata": {
        "colab": {
          "base_uri": "https://localhost:8080/"
        },
        "id": "FevDUs8iFwnS",
        "outputId": "7175e3b2-54fc-4cb7-b5b3-295741e6fb41"
      },
      "execution_count": null,
      "outputs": [
        {
          "output_type": "stream",
          "name": "stdout",
          "text": [
            "CPU times: user 4 µs, sys: 0 ns, total: 4 µs\n",
            "Wall time: 8.82 µs\n"
          ]
        },
        {
          "output_type": "execute_result",
          "data": {
            "text/plain": [
              "True"
            ]
          },
          "metadata": {},
          "execution_count": 78
        }
      ]
    },
    {
      "cell_type": "code",
      "source": [
        "%time\n",
        "isAnagram1(s,t)"
      ],
      "metadata": {
        "colab": {
          "base_uri": "https://localhost:8080/"
        },
        "id": "X9-a4fz7Fwej",
        "outputId": "b3684c42-bfb0-4b06-a023-d4099e93379d"
      },
      "execution_count": null,
      "outputs": [
        {
          "output_type": "stream",
          "name": "stdout",
          "text": [
            "CPU times: user 3 µs, sys: 0 ns, total: 3 µs\n",
            "Wall time: 7.63 µs\n"
          ]
        },
        {
          "output_type": "execute_result",
          "data": {
            "text/plain": [
              "True"
            ]
          },
          "metadata": {},
          "execution_count": 79
        }
      ]
    },
    {
      "cell_type": "code",
      "source": [
        "%time\n",
        "isAnagram2(s,t)"
      ],
      "metadata": {
        "colab": {
          "base_uri": "https://localhost:8080/"
        },
        "id": "A_T7Sjz7DQ6k",
        "outputId": "075490a0-3a01-4e02-8e1d-c32895a6f145"
      },
      "execution_count": null,
      "outputs": [
        {
          "output_type": "stream",
          "name": "stdout",
          "text": [
            "CPU times: user 4 µs, sys: 0 ns, total: 4 µs\n",
            "Wall time: 7.87 µs\n"
          ]
        },
        {
          "output_type": "execute_result",
          "data": {
            "text/plain": [
              "False"
            ]
          },
          "metadata": {},
          "execution_count": 80
        }
      ]
    },
    {
      "cell_type": "markdown",
      "source": [
        "## Two Sum"
      ],
      "metadata": {
        "id": "GbBkO7pfIGrO"
      }
    },
    {
      "cell_type": "code",
      "source": [
        "nums = [2,7,11,15]\n",
        "target = 9"
      ],
      "metadata": {
        "id": "i4RXkjjGIOXK"
      },
      "execution_count": null,
      "outputs": []
    },
    {
      "cell_type": "code",
      "source": [
        "from collections import defaultdict\n",
        "def twoSum(nums: list[int], target: int) -> list[int]:\n",
        "  check = defaultdict(int)\n",
        "  for num in nums:\n",
        "    check[num] = target - num"
      ],
      "metadata": {
        "id": "QU4GpXY-IJDC"
      },
      "execution_count": null,
      "outputs": []
    },
    {
      "cell_type": "code",
      "source": [
        "from collections import defaultdict\n",
        "def twoSum(nums: list[int], target: int) -> list[int]:\n",
        "  check = defaultdict(int)\n",
        "  for i,v in enumerate(nums):\n",
        "    diff = target - v\n",
        "    if diff in check:\n",
        "      return [check[diff], i]\n",
        "    check[v] = i\n",
        "  return"
      ],
      "metadata": {
        "id": "HxbjWMs4Puu0"
      },
      "execution_count": null,
      "outputs": []
    },
    {
      "cell_type": "code",
      "source": [
        "twoSum(nums,target)"
      ],
      "metadata": {
        "colab": {
          "base_uri": "https://localhost:8080/"
        },
        "id": "bolqzDQwQiWd",
        "outputId": "34bcc16a-31bf-40fa-e65b-c6e8d16a76ef"
      },
      "execution_count": null,
      "outputs": [
        {
          "output_type": "execute_result",
          "data": {
            "text/plain": [
              "[0, 1]"
            ]
          },
          "metadata": {},
          "execution_count": 139
        }
      ]
    },
    {
      "cell_type": "code",
      "source": [
        "list(enumerate(nums))"
      ],
      "metadata": {
        "colab": {
          "base_uri": "https://localhost:8080/"
        },
        "id": "16OwK_0PQAcK",
        "outputId": "c086fcc8-8af6-4480-db2e-7f55105cfa8c"
      },
      "execution_count": null,
      "outputs": [
        {
          "output_type": "execute_result",
          "data": {
            "text/plain": [
              "[(0, 2), (1, 7), (2, 11), (3, 15)]"
            ]
          },
          "metadata": {},
          "execution_count": 136
        }
      ]
    },
    {
      "cell_type": "code",
      "source": [
        "a = {2:7,7:2,11:-2,15:-6}\n",
        "if a[2] in [2,7,11,15]:\n",
        "  print([a[2], a[2]==[2,7,11,15]])"
      ],
      "metadata": {
        "colab": {
          "base_uri": "https://localhost:8080/"
        },
        "id": "BpETSUWhKp4R",
        "outputId": "8c935f5f-8236-4ae1-8353-83b5daf25f01"
      },
      "execution_count": null,
      "outputs": [
        {
          "output_type": "stream",
          "name": "stdout",
          "text": [
            "[7, False]\n"
          ]
        }
      ]
    },
    {
      "cell_type": "markdown",
      "source": [
        "## Group Anagrams"
      ],
      "metadata": {
        "id": "FIafoQtMgUsh"
      }
    },
    {
      "cell_type": "code",
      "source": [
        "strs = [\"eat\",\"tea\",\"tan\",\"ate\",\"nat\",\"bat\"]"
      ],
      "metadata": {
        "id": "txUJL-UDgUh6"
      },
      "execution_count": null,
      "outputs": []
    },
    {
      "cell_type": "code",
      "source": [
        "from collections import defaultdict\n",
        "def groupAnagrams(strs:list[str])-> list[list[str]]:\n",
        "  group = defaultdict(list)\n",
        "  for s in strs:\n",
        "    sort = \"\".join(sorted(s))\n",
        "    group[sort].append(s)\n",
        "  return list(group.values())"
      ],
      "metadata": {
        "id": "fHtKVdOpgZ0B"
      },
      "execution_count": null,
      "outputs": []
    },
    {
      "cell_type": "code",
      "source": [
        "groupAnagrams(strs)"
      ],
      "metadata": {
        "colab": {
          "base_uri": "https://localhost:8080/"
        },
        "id": "OHybz09FjXZ5",
        "outputId": "38aea228-0ef2-4c22-cda0-4531175e2dcb"
      },
      "execution_count": null,
      "outputs": [
        {
          "output_type": "execute_result",
          "data": {
            "text/plain": [
              "[['eat', 'tea', 'ate'], ['tan', 'nat'], ['bat']]"
            ]
          },
          "metadata": {},
          "execution_count": 43
        }
      ]
    },
    {
      "cell_type": "markdown",
      "source": [
        "Roman numerals are represented by seven different symbols: I, V, X, L, C, D and M.\n",
        "\n",
        "Symbol       Value\n",
        "I             1\n",
        "V             5\n",
        "X             10\n",
        "L             50\n",
        "C             100\n",
        "D             500\n",
        "M             1000\n",
        "For example, 2 is written as II in Roman numeral, just two ones added together. 12 is written as XII, which is simply X + II. The number 27 is written as XXVII, which is XX + V + II.\n",
        "\n",
        "Roman numerals are usually written largest to smallest from left to right. However, the numeral for four is not IIII. Instead, the number four is written as IV. Because the one is before the five we subtract it making four. The same principle applies to the number nine, which is written as IX. There are six instances where subtraction is used:\n",
        "\n",
        "I can be placed before V (5) and X (10) to make 4 and 9.\n",
        "X can be placed before L (50) and C (100) to make 40 and 90.\n",
        "C can be placed before D (500) and M (1000) to make 400 and 900.\n",
        "Given a roman numeral, convert it to an integer.\n",
        "\n"
      ],
      "metadata": {
        "id": "v-aE2Lg7Di-n"
      }
    },
    {
      "cell_type": "code",
      "source": [
        "def romanToInt(s: str) -> int:\n",
        "  roman = {\n",
        "      \"I\":1,\n",
        "      \"V\":5,\n",
        "      \"X\":10,\n",
        "      \"L\":50,\n",
        "      \"C\":100,\n",
        "      \"D\":500,\n",
        "      \"M\":1000\n",
        "      }\n",
        "  value = 0\n",
        "  for i in range(len(s)-1):\n",
        "      if roman[s[i]] < roman[s[(i+1)]]:\n",
        "          value -= roman[s[i]]\n",
        "      else:\n",
        "          value += roman[s[i]]\n",
        "  return value+roman[s[-1]]"
      ],
      "metadata": {
        "id": "l_8NRGD8ptUV"
      },
      "execution_count": null,
      "outputs": []
    },
    {
      "cell_type": "code",
      "source": [
        "romanToInt('MIV')"
      ],
      "metadata": {
        "colab": {
          "base_uri": "https://localhost:8080/"
        },
        "id": "gJaqvT8uDaiM",
        "outputId": "d04cfaa9-dc5d-4e50-a213-c5233eac5747"
      },
      "execution_count": null,
      "outputs": [
        {
          "output_type": "execute_result",
          "data": {
            "text/plain": [
              "1004"
            ]
          },
          "metadata": {},
          "execution_count": 5
        }
      ]
    },
    {
      "cell_type": "markdown",
      "source": [
        "## Remove element"
      ],
      "metadata": {
        "id": "6RMDnDzNsVU_"
      }
    },
    {
      "cell_type": "code",
      "source": [
        "nums = [0,1,2,2,3,0,4,2]\n",
        "val = 3"
      ],
      "metadata": {
        "id": "06NNVwm3ser-"
      },
      "execution_count": null,
      "outputs": []
    },
    {
      "cell_type": "code",
      "source": [
        "def removeElement(nums: list[int], val: int) -> int:\n",
        "  while val in nums:\n",
        "    nums.remove(val)\n",
        "  return nums"
      ],
      "metadata": {
        "id": "j59mi7MXsX77"
      },
      "execution_count": null,
      "outputs": []
    },
    {
      "cell_type": "code",
      "source": [
        "removeElement(nums, val)"
      ],
      "metadata": {
        "colab": {
          "base_uri": "https://localhost:8080/"
        },
        "id": "6EsqnwZIseNE",
        "outputId": "e2893343-f425-4175-ce1b-61b462e12f81"
      },
      "execution_count": null,
      "outputs": [
        {
          "output_type": "execute_result",
          "data": {
            "text/plain": [
              "[0, 1, 2, 2, 0, 4, 2]"
            ]
          },
          "metadata": {},
          "execution_count": 11
        }
      ]
    },
    {
      "cell_type": "markdown",
      "source": [
        "## Maximum Subarray"
      ],
      "metadata": {
        "id": "iLwef6TvHQQY"
      }
    },
    {
      "cell_type": "markdown",
      "source": [
        "Turn into a class = return the maxSubArray sum and maxSubArray array"
      ],
      "metadata": {
        "id": "5aRBuSADH3OQ"
      }
    },
    {
      "cell_type": "code",
      "source": [
        "def maxSubArray(nums: list[int]) -> int:\n",
        "    maxSum,subArray = nums[0],0\n",
        "\n",
        "    for i in range(len(nums)):\n",
        "        subArray += nums[i]\n",
        "        maxSum = max(maxSum, subArray)\n",
        "        subArray = max(subArray, 0)\n",
        "    return maxSum"
      ],
      "metadata": {
        "id": "NZr6_jGTHcLR"
      },
      "execution_count": null,
      "outputs": []
    },
    {
      "cell_type": "code",
      "source": [
        "maxSubArray([-2,1,-3,4,-1,2,1,-5,4])"
      ],
      "metadata": {
        "colab": {
          "base_uri": "https://localhost:8080/"
        },
        "id": "tyYKueBjHivS",
        "outputId": "7301971e-10cd-42de-b08e-a561c00caf1e"
      },
      "execution_count": null,
      "outputs": [
        {
          "output_type": "execute_result",
          "data": {
            "text/plain": [
              "6"
            ]
          },
          "metadata": {},
          "execution_count": 40
        }
      ]
    },
    {
      "cell_type": "markdown",
      "source": [
        "## centuryFromYear"
      ],
      "metadata": {
        "id": "ps_9h9g8xpC2"
      }
    },
    {
      "cell_type": "code",
      "source": [
        "def centuryFromYear(year:int) -> int:\n",
        "  return (year + 99) // 100"
      ],
      "metadata": {
        "id": "0PoZzHEbxv8m"
      },
      "execution_count": 1,
      "outputs": []
    },
    {
      "cell_type": "code",
      "source": [
        "centuryFromYear(2010)"
      ],
      "metadata": {
        "colab": {
          "base_uri": "https://localhost:8080/"
        },
        "id": "d-1lA4N2yB5m",
        "outputId": "bb62a1d6-b387-4f62-9106-c00158b10f57"
      },
      "execution_count": 13,
      "outputs": [
        {
          "output_type": "execute_result",
          "data": {
            "text/plain": [
              "21"
            ]
          },
          "metadata": {},
          "execution_count": 13
        }
      ]
    },
    {
      "cell_type": "code",
      "source": [
        "def centuryFromYear1(year:int) -> int:\n",
        "  if len(str(year)) <= 2:\n",
        "    return 1\n",
        "\n",
        "  elif len(str(year)) == 3:\n",
        "    if year % 10 == 0:\n",
        "      return int(str(year)[0])\n",
        "    else:\n",
        "      return int(str(year)[0]) + 1\n",
        "\n",
        "  elif len(str(year)) == 4:\n",
        "    if year % 10 == 0:\n",
        "      return int(str(year)[:2])\n",
        "    else:\n",
        "      return int(str(year)[:2]) + 1"
      ],
      "metadata": {
        "id": "uFOmsLKoyPj9"
      },
      "execution_count": 6,
      "outputs": []
    },
    {
      "cell_type": "code",
      "source": [
        "centuryFromYear1(2010)"
      ],
      "metadata": {
        "colab": {
          "base_uri": "https://localhost:8080/"
        },
        "id": "0HtxdOfQ0Fku",
        "outputId": "4c1fa7e5-8064-41d2-8d9a-b71fc66e3d40"
      },
      "execution_count": 12,
      "outputs": [
        {
          "output_type": "execute_result",
          "data": {
            "text/plain": [
              "20"
            ]
          },
          "metadata": {},
          "execution_count": 12
        }
      ]
    },
    {
      "cell_type": "markdown",
      "source": [
        "## Longest Prefix"
      ],
      "metadata": {
        "id": "wlej0MXAhp4d"
      }
    },
    {
      "cell_type": "code",
      "source": [
        "strs = [\"flower\",\"flow\",\"flight\"]"
      ],
      "metadata": {
        "id": "I2XgKrM_h0V3"
      },
      "execution_count": null,
      "outputs": []
    },
    {
      "cell_type": "code",
      "source": [
        "def longestCommonPrefix(strs: list[str]) -> str:\n",
        "  ans = \"\"\n",
        "  w = sorted(strs)\n",
        "  f,l = w[0],w[-1]\n",
        "  for i in range(min(len(f),len(l))):\n",
        "      if f[i] != l[i]:\n",
        "          return ans\n",
        "      else:\n",
        "          ans += f[i]\n",
        "  return ans"
      ],
      "metadata": {
        "id": "GkDUrbYYDd92"
      },
      "execution_count": null,
      "outputs": []
    },
    {
      "cell_type": "code",
      "source": [
        "longestCommonPrefix(strs)"
      ],
      "metadata": {
        "colab": {
          "base_uri": "https://localhost:8080/",
          "height": 35
        },
        "id": "WLM3KDKThjkc",
        "outputId": "d4d50bc7-3d9c-417a-a36c-fafc5419598c"
      },
      "execution_count": null,
      "outputs": [
        {
          "output_type": "execute_result",
          "data": {
            "text/plain": [
              "'fl'"
            ],
            "application/vnd.google.colaboratory.intrinsic+json": {
              "type": "string"
            }
          },
          "metadata": {},
          "execution_count": 4
        }
      ]
    },
    {
      "cell_type": "code",
      "source": [
        "for i, chars in enumerate(zip(*strs)):\n",
        "  print(chars)"
      ],
      "metadata": {
        "colab": {
          "base_uri": "https://localhost:8080/"
        },
        "id": "x9WFVltZmF9s",
        "outputId": "a342f1cc-2a8e-4a8b-ba9c-5ceea050c904"
      },
      "execution_count": null,
      "outputs": [
        {
          "output_type": "stream",
          "name": "stdout",
          "text": [
            "('f', 'f', 'f')\n",
            "('l', 'l', 'l')\n",
            "('o', 'o', 'i')\n",
            "('w', 'w', 'g')\n"
          ]
        }
      ]
    },
    {
      "cell_type": "markdown",
      "source": [
        "zip takes iterables and returns a single iterator object, therefore, running all at the same time.\n",
        "\n",
        "So combining it with enumerate(zip(*)) returns:\n",
        "\n",
        "0 (f,f,f)\n",
        "\n",
        "---\n",
        "1 (l,l,l)\n",
        "\n",
        "---\n",
        "2 (o,o,i)\n",
        "\n",
        "---"
      ],
      "metadata": {
        "id": "11QbDwI95v6Z"
      }
    },
    {
      "cell_type": "code",
      "source": [
        "def longestCommonPrefix1(strs: list[str]) -> str:\n",
        "  result = \"\"\n",
        "  for i, chars in enumerate(zip(*strs)):\n",
        "      if len(set(chars)) != 1:\n",
        "          return result\n",
        "      result += chars[0]\n",
        "  return result"
      ],
      "metadata": {
        "id": "f0IHBLAVmJS_"
      },
      "execution_count": null,
      "outputs": []
    },
    {
      "cell_type": "code",
      "source": [
        "longestCommonPrefix1(strs)"
      ],
      "metadata": {
        "colab": {
          "base_uri": "https://localhost:8080/",
          "height": 35
        },
        "id": "WW8jHK2KoNLc",
        "outputId": "730cd9d0-e7bf-4a4d-ebe1-6981e6d5383d"
      },
      "execution_count": null,
      "outputs": [
        {
          "output_type": "execute_result",
          "data": {
            "text/plain": [
              "'fl'"
            ],
            "application/vnd.google.colaboratory.intrinsic+json": {
              "type": "string"
            }
          },
          "metadata": {},
          "execution_count": 27
        }
      ]
    },
    {
      "cell_type": "markdown",
      "source": [
        "## missingNumbers"
      ],
      "metadata": {
        "id": "xpBTcrkg2gdd"
      }
    },
    {
      "cell_type": "code",
      "source": [
        "numbers = [6,3,2,8]"
      ],
      "metadata": {
        "id": "yRRtP9wH2pNt"
      },
      "execution_count": 12,
      "outputs": []
    },
    {
      "cell_type": "code",
      "source": [
        "def missingNumbers(numbers:list[int])-> int:\n",
        "  result = 0\n",
        "  numbers.sort()\n",
        "  for i in range(min(numbers),max(numbers)):\n",
        "    if i not in numbers:\n",
        "      result += 1\n",
        "  return result"
      ],
      "metadata": {
        "id": "kpsBFUDi2nVK"
      },
      "execution_count": 15,
      "outputs": []
    },
    {
      "cell_type": "code",
      "source": [
        "missingNumbers(numbers)"
      ],
      "metadata": {
        "colab": {
          "base_uri": "https://localhost:8080/"
        },
        "id": "zzYhWgvn3E6q",
        "outputId": "8737ec4a-3bce-4adf-d8cf-5e624c0540d4"
      },
      "execution_count": 16,
      "outputs": [
        {
          "output_type": "execute_result",
          "data": {
            "text/plain": [
              "3"
            ]
          },
          "metadata": {},
          "execution_count": 16
        }
      ]
    },
    {
      "cell_type": "code",
      "source": [
        "def missingNumbersListComp(numbers:list[int])-> int:\n",
        "  return sum([1 for i in range(min(numbers),max(numbers)) if i not in numbers])"
      ],
      "metadata": {
        "id": "kPvQgjUS3KXl"
      },
      "execution_count": 17,
      "outputs": []
    },
    {
      "cell_type": "code",
      "source": [
        "missingNumbersListComp(numbers)"
      ],
      "metadata": {
        "colab": {
          "base_uri": "https://localhost:8080/"
        },
        "id": "dtRq3kCy3WFz",
        "outputId": "eae7efe7-2c06-45bc-b9bd-4c6b7d2792b5"
      },
      "execution_count": 18,
      "outputs": [
        {
          "output_type": "execute_result",
          "data": {
            "text/plain": [
              "3"
            ]
          },
          "metadata": {},
          "execution_count": 18
        }
      ]
    },
    {
      "cell_type": "code",
      "source": [
        "def missingNumbersFormula(numbers:list[int])-> int:\n",
        "  return max(numbers) - min(numbers) - len(numbers) + 1"
      ],
      "metadata": {
        "id": "KXLEiw1P3ZCY"
      },
      "execution_count": 19,
      "outputs": []
    },
    {
      "cell_type": "code",
      "source": [
        "missingNumbersFormula(numbers)"
      ],
      "metadata": {
        "colab": {
          "base_uri": "https://localhost:8080/"
        },
        "id": "bpVlAKT73vqT",
        "outputId": "f327c260-3e1c-4aa1-8eb9-82838c37d3c0"
      },
      "execution_count": 20,
      "outputs": [
        {
          "output_type": "execute_result",
          "data": {
            "text/plain": [
              "3"
            ]
          },
          "metadata": {},
          "execution_count": 20
        }
      ]
    },
    {
      "cell_type": "markdown",
      "source": [
        "## matrixElementsSum"
      ],
      "metadata": {
        "id": "opeC_8S3z1eC"
      }
    },
    {
      "cell_type": "markdown",
      "source": [
        "Add up all the values that don't appear below a 0, within a matrix"
      ],
      "metadata": {
        "id": "mdQ5C1r70nqp"
      }
    },
    {
      "cell_type": "code",
      "source": [
        "matrix = [[0, 1, 1, 2],\n",
        "          [0, 5, 0, 0],\n",
        "          [2, 0, 3, 3]]"
      ],
      "metadata": {
        "id": "P0kPa-y40a3g"
      },
      "execution_count": 2,
      "outputs": []
    },
    {
      "cell_type": "markdown",
      "source": [
        "e.g. 1 + 5 + 1 + 2 = 9"
      ],
      "metadata": {
        "id": "qGeVTKsr0r8g"
      }
    },
    {
      "cell_type": "code",
      "source": [
        "def matrixElementsSum(matrix: list[list[int]])-> int:\n",
        "  sum = 0\n",
        "  for i, value in enumerate(zip(*matrix)):\n",
        "    for v in value:\n",
        "      if v == 0:\n",
        "        break\n",
        "      else:\n",
        "        sum += v\n",
        "  return sum"
      ],
      "metadata": {
        "id": "0REEyqQdz8sC"
      },
      "execution_count": 1,
      "outputs": []
    },
    {
      "cell_type": "code",
      "source": [
        "matrixElementsSum(matrix)"
      ],
      "metadata": {
        "colab": {
          "base_uri": "https://localhost:8080/"
        },
        "id": "1It6f3zk0YzB",
        "outputId": "d699e65d-adff-4999-ff70-84201a93fa1b"
      },
      "execution_count": 3,
      "outputs": [
        {
          "output_type": "execute_result",
          "data": {
            "text/plain": [
              "9"
            ]
          },
          "metadata": {},
          "execution_count": 3
        }
      ]
    },
    {
      "cell_type": "markdown",
      "source": [
        "## commonCharacterCount"
      ],
      "metadata": {
        "id": "Mf0usgXJTJxY"
      }
    },
    {
      "cell_type": "code",
      "source": [
        "s1 = \"aabcc\"\n",
        "s2 = \"adcaa\""
      ],
      "metadata": {
        "id": "JZkAz8WZTZrD"
      },
      "execution_count": 5,
      "outputs": []
    },
    {
      "cell_type": "markdown",
      "source": [
        "### Option 1"
      ],
      "metadata": {
        "id": "JiJT3LYoUNyp"
      }
    },
    {
      "cell_type": "code",
      "source": [
        "from collections import Counter\n",
        "def commonCharacterCount(s1: str, s2: str)-> int:\n",
        "    result = 0\n",
        "    s1count = Counter(s1)\n",
        "    s2count = Counter(s2)\n",
        "    for k,v in s1count.items():\n",
        "        if k in s2count:\n",
        "            result += min(s1count[k],s2count[k])\n",
        "    return result"
      ],
      "metadata": {
        "id": "3bAKEsrATkVZ"
      },
      "execution_count": 7,
      "outputs": []
    },
    {
      "cell_type": "code",
      "source": [
        "commonCharacterCount(s1,s2)"
      ],
      "metadata": {
        "colab": {
          "base_uri": "https://localhost:8080/"
        },
        "id": "mX5K7qePTpgK",
        "outputId": "aa1a608b-7f2a-40de-82ae-6d89c8a71d12"
      },
      "execution_count": 8,
      "outputs": [
        {
          "output_type": "execute_result",
          "data": {
            "text/plain": [
              "3"
            ]
          },
          "metadata": {},
          "execution_count": 8
        }
      ]
    },
    {
      "cell_type": "markdown",
      "source": [
        "### Option 2"
      ],
      "metadata": {
        "id": "bs7CEn9GUQP1"
      }
    },
    {
      "cell_type": "code",
      "source": [
        "from collections import Counter\n",
        "def commonCharacterCountListCom(s1: str, s2: str)-> int:\n",
        "  result = 0\n",
        "  s1count = Counter(s1)\n",
        "  s2count = Counter(s2)\n",
        "  return sum(min(s1count[k],s2count[k]) for k,v in s1count.items() if k in s2count)"
      ],
      "metadata": {
        "id": "wvr1gIkHTxrw"
      },
      "execution_count": 12,
      "outputs": []
    },
    {
      "cell_type": "code",
      "source": [
        "commonCharacterCountListCom(s1,s2)"
      ],
      "metadata": {
        "colab": {
          "base_uri": "https://localhost:8080/"
        },
        "id": "szBUAjY2UHtt",
        "outputId": "f1495b66-7e2a-4bad-bf0f-ceb7214c71b2"
      },
      "execution_count": 14,
      "outputs": [
        {
          "output_type": "execute_result",
          "data": {
            "text/plain": [
              "3"
            ]
          },
          "metadata": {},
          "execution_count": 14
        }
      ]
    },
    {
      "cell_type": "markdown",
      "source": [
        "### Option 3 - dict & dict"
      ],
      "metadata": {
        "id": "eDkE-0hcUTnm"
      }
    },
    {
      "cell_type": "code",
      "source": [
        "from collections import Counter\n",
        "def commonCharacterCount1(s1: str, s2: str)-> int:\n",
        "    s1count = Counter(s1)\n",
        "    s2count = Counter(s2)\n",
        "    intersection = s1count & s2count\n",
        "    return sum(intersection.values())"
      ],
      "metadata": {
        "id": "i3-AcpiPTOf-"
      },
      "execution_count": 10,
      "outputs": []
    },
    {
      "cell_type": "code",
      "source": [
        "commonCharacterCount1(s1,s2)"
      ],
      "metadata": {
        "colab": {
          "base_uri": "https://localhost:8080/"
        },
        "id": "vBLNvkl-TXAv",
        "outputId": "dd223e59-6045-4ed0-d4c2-59ffbad4adfb"
      },
      "execution_count": 11,
      "outputs": [
        {
          "output_type": "execute_result",
          "data": {
            "text/plain": [
              "3"
            ]
          },
          "metadata": {},
          "execution_count": 11
        }
      ]
    },
    {
      "cell_type": "markdown",
      "source": [
        "## rotateImage"
      ],
      "metadata": {
        "id": "G8Km7lbqAq7z"
      }
    },
    {
      "cell_type": "code",
      "source": [
        "a = [[1, 2, 3],\n",
        "     [4, 5, 6],\n",
        "     [7, 8, 9]]"
      ],
      "metadata": {
        "id": "L47utg1kAwzW"
      },
      "execution_count": 30,
      "outputs": []
    },
    {
      "cell_type": "markdown",
      "source": [
        "solution(a) =\n",
        "```\n",
        "[[7, 4, 1],\n",
        "[8, 5, 2],\n",
        "[9, 6, 3]]\n",
        "```\n",
        "\n"
      ],
      "metadata": {
        "id": "Yml7lyDqA9aL"
      }
    },
    {
      "cell_type": "code",
      "source": [
        "def rotateImage(a):\n",
        "    rotate = []\n",
        "    for i,v in enumerate(zip(*a)):\n",
        "        rotate.append(v[::-1])\n",
        "    return rotate"
      ],
      "metadata": {
        "id": "R9gq3vpSAyJG"
      },
      "execution_count": 29,
      "outputs": []
    },
    {
      "cell_type": "code",
      "source": [
        "rotateImage(a)"
      ],
      "metadata": {
        "colab": {
          "base_uri": "https://localhost:8080/"
        },
        "id": "htsblAjOBTN9",
        "outputId": "da287940-966a-40bb-a9bb-85c7597a57de"
      },
      "execution_count": 31,
      "outputs": [
        {
          "output_type": "execute_result",
          "data": {
            "text/plain": [
              "[(7, 4, 1), (8, 5, 2), (9, 6, 3)]"
            ]
          },
          "metadata": {},
          "execution_count": 31
        }
      ]
    },
    {
      "cell_type": "code",
      "source": [
        "def rotateImage1(a):\n",
        "    return list(zip(*reversed(a)))"
      ],
      "metadata": {
        "id": "fFGp_zqrEp2D"
      },
      "execution_count": 32,
      "outputs": []
    },
    {
      "cell_type": "code",
      "source": [
        "rotateImage1(a)"
      ],
      "metadata": {
        "colab": {
          "base_uri": "https://localhost:8080/"
        },
        "id": "VpDyQ7wnEy1F",
        "outputId": "303a71dd-e8c8-4eef-9d5e-045c3dad082d"
      },
      "execution_count": 33,
      "outputs": [
        {
          "output_type": "execute_result",
          "data": {
            "text/plain": [
              "[(7, 4, 1), (8, 5, 2), (9, 6, 3)]"
            ]
          },
          "metadata": {},
          "execution_count": 33
        }
      ]
    },
    {
      "cell_type": "markdown",
      "source": [
        "## sudoku"
      ],
      "metadata": {
        "id": "HyOjllTcpgyB"
      }
    },
    {
      "cell_type": "markdown",
      "source": [
        "Is it a valid sudoku grid?\n",
        "Check horizon, vertical, and 3x3 grid. Can only contain 1-9 once"
      ],
      "metadata": {
        "id": "oxH6-Dhjpx3m"
      }
    },
    {
      "cell_type": "markdown",
      "source": [
        "\n",
        "\n",
        "```\n",
        "grid = [['.', '.', '.', '1', '4', '.', '.', '2', '.'],\n",
        "        ['.', '.', '6', '.', '.', '.', '.', '.', '.'],\n",
        "        ['.', '.', '.', '.', '.', '.', '.', '.', '.'],\n",
        "        ['.', '.', '1', '.', '.', '.', '.', '.', '.'],\n",
        "        ['.', '6', '7', '.', '.', '.', '.', '.', '9'],\n",
        "        ['.', '.', '.', '.', '.', '.', '8', '1', '.'],\n",
        "        ['.', '3', '.', '.', '.', '.', '.', '.', '6'],\n",
        "        ['.', '.', '.', '.', '.', '7', '.', '.', '.'],\n",
        "        ['.', '.', '.', '5', '.', '.', '.', '7', '.']]\n",
        "```\n",
        "\n",
        "true"
      ],
      "metadata": {
        "id": "l6pYsgPhpp9i"
      }
    },
    {
      "cell_type": "markdown",
      "source": [
        "\n",
        "\n",
        "```\n",
        "grid = [['.', '.', '.', '.', '2', '.', '.', '9', '.'],\n",
        "        ['.', '.', '.', '.', '6', '.', '.', '.', '.'],\n",
        "        ['7', '1', '.', '.', '7', '5', '.', '.', '.'],\n",
        "        ['.', '7', '.', '.', '.', '.', '.', '.', '.'],\n",
        "        ['.', '.', '.', '.', '8', '3', '.', '.', '.'],\n",
        "        ['.', '.', '8', '.', '.', '7', '.', '6', '.'],\n",
        "        ['.', '.', '.', '.', '.', '2', '.', '.', '.'],\n",
        "        ['.', '1', '.', '2', '.', '.', '.', '.', '.'],\n",
        "        ['.', '2', '.', '.', '3', '.', '.', '.', '.']]\n",
        "```\n",
        "\n",
        "false"
      ],
      "metadata": {
        "id": "QHRTA-gSptap"
      }
    },
    {
      "cell_type": "code",
      "source": [
        "grid = [['.', '.', '.', '1', '4', '.', '.', '2', '.'],\n",
        "        ['.', '.', '6', '.', '.', '.', '.', '.', '.'],\n",
        "        ['.', '.', '.', '.', '.', '.', '.', '.', '.'],\n",
        "        ['.', '.', '1', '.', '.', '.', '.', '.', '.'],\n",
        "        ['.', '6', '7', '.', '.', '.', '.', '.', '9'],\n",
        "        ['.', '.', '.', '.', '.', '.', '8', '1', '.'],\n",
        "        ['.', '3', '.', '.', '.', '.', '.', '.', '6'],\n",
        "        ['.', '.', '.', '.', '.', '7', '.', '.', '.'],\n",
        "        ['.', '.', '.', '5', '.', '.', '.', '7', '.']]"
      ],
      "metadata": {
        "id": "FNP13bwuqDvk"
      },
      "execution_count": 1,
      "outputs": []
    },
    {
      "cell_type": "code",
      "source": [
        "def check_unique(nums: list[int])-> bool:\n",
        "  s = set()\n",
        "  for i in nums:\n",
        "    if i == \".\":\n",
        "      continue\n",
        "    elif i in s:\n",
        "      return False\n",
        "    else:\n",
        "      s.add(i)\n",
        "  return True\n",
        "\n",
        "def sudoku(grid: list[list[int|str]])-> bool:\n",
        "  for line in grid:\n",
        "    if not check_unique(line):\n",
        "      return False\n",
        "\n",
        "  for k,v in enumerate(zip(*grid)):\n",
        "    if not check_unique(v):\n",
        "      return False\n",
        "\n",
        "  for i in range(0,9,3):\n",
        "    for j in range(0,9,3):\n",
        "      if not check_unique(grid[i][j:j+3]+grid[i+1][j:j+3]+grid[i+2][j:j+3]):\n",
        "        return False\n",
        "  return True"
      ],
      "metadata": {
        "id": "66Ra4_NXqFMo"
      },
      "execution_count": 5,
      "outputs": []
    },
    {
      "cell_type": "code",
      "source": [
        "sudoku(grid)"
      ],
      "metadata": {
        "colab": {
          "base_uri": "https://localhost:8080/"
        },
        "id": "QT4SD18dvfKa",
        "outputId": "d5bbc607-d09c-47ac-f5b6-c621efa0e366"
      },
      "execution_count": 6,
      "outputs": [
        {
          "output_type": "execute_result",
          "data": {
            "text/plain": [
              "True"
            ]
          },
          "metadata": {},
          "execution_count": 6
        }
      ]
    },
    {
      "cell_type": "markdown",
      "source": [
        "## isCryptSolution"
      ],
      "metadata": {
        "id": "Bn8yeSUtTieX"
      }
    },
    {
      "cell_type": "code",
      "source": [
        "crypt1 = [\"SEND\", \"MORE\", \"MONEY\"]\n",
        "solution1 = [['O', '0'],\n",
        "            ['M', '1'],\n",
        "            ['Y', '2'],\n",
        "            ['E', '5'],\n",
        "            ['N', '6'],\n",
        "            ['D', '7'],\n",
        "            ['R', '8'],\n",
        "            ['S', '9']]"
      ],
      "metadata": {
        "id": "y8-dADLNTuwg"
      },
      "execution_count": 6,
      "outputs": []
    },
    {
      "cell_type": "code",
      "source": [
        "crypt2 = [\"TEN\", \"TWO\", \"ONE\"]\n",
        "solution2 = [['O', '1'],\n",
        "            ['T', '0'],\n",
        "            ['W', '9'],\n",
        "            ['E', '5'],\n",
        "            ['N', '4']]"
      ],
      "metadata": {
        "id": "7irlUztQT_m4"
      },
      "execution_count": 7,
      "outputs": []
    },
    {
      "cell_type": "code",
      "source": [
        "from collections import defaultdict\n",
        "def isCryptSolution(crypt: list[str], solution:list[list[str,int]])->bool:\n",
        "    hashmap = defaultdict(int)\n",
        "    for line in solution:\n",
        "        hashmap[line[0]] = line[1]\n",
        "\n",
        "    l = []\n",
        "    for word in crypt:\n",
        "        numbers = []\n",
        "        for letter in word:\n",
        "            numbers.append(hashmap[letter])\n",
        "        l.append(''.join(numbers))\n",
        "\n",
        "    leadingBlank = False\n",
        "    if l[0][0] == '0' or l[1][0] == '0' or l[2][0] == '0':\n",
        "        leadingBlank = True\n",
        "\n",
        "    if int(l[0]) + int(l[1]) == int(l[2]):\n",
        "        if leadingBlank and len(l[2]) == 1:\n",
        "            return True\n",
        "        elif leadingBlank:\n",
        "            return False\n",
        "        else:\n",
        "            return True\n",
        "    else:\n",
        "        return False"
      ],
      "metadata": {
        "id": "DRR7eZURTl5m"
      },
      "execution_count": 4,
      "outputs": []
    },
    {
      "cell_type": "code",
      "source": [
        "print(isCryptSolution(crypt1, solution1))\n",
        "print(isCryptSolution(crypt2, solution2))"
      ],
      "metadata": {
        "colab": {
          "base_uri": "https://localhost:8080/"
        },
        "id": "9cz2jEZ7TzZR",
        "outputId": "6bd80621-544b-4cb0-eec1-523988c62bae"
      },
      "execution_count": 8,
      "outputs": [
        {
          "output_type": "stream",
          "name": "stdout",
          "text": [
            "True\n",
            "False\n"
          ]
        }
      ]
    },
    {
      "cell_type": "markdown",
      "source": [
        "# Two Pointers (Sliding Window)"
      ],
      "metadata": {
        "id": "qCeUYnqwjOov"
      }
    },
    {
      "cell_type": "markdown",
      "source": [
        "## Valid Palindrome"
      ],
      "metadata": {
        "id": "CzyXAqFv-_xU"
      }
    },
    {
      "cell_type": "code",
      "source": [
        "import re\n",
        "def isPalindrome(s: str) -> bool:\n",
        "    p = \"\".join(re.findall(r\"[a-zA-Z0-9]\",s)).lower()\n",
        "    return True if p == p[::-1] else False"
      ],
      "metadata": {
        "id": "ycLUsKx_F56N"
      },
      "execution_count": null,
      "outputs": []
    },
    {
      "cell_type": "code",
      "source": [
        "def isPalindrome1(s: str) -> bool:\n",
        "    string = []\n",
        "    for i in s.lower():\n",
        "      if i.isalnum():\n",
        "        string.append(i)\n",
        "    return string == string[::-1]"
      ],
      "metadata": {
        "id": "34XQvJKmXsuT"
      },
      "execution_count": null,
      "outputs": []
    },
    {
      "cell_type": "code",
      "source": [
        "def isPalindrome2(s: str) -> bool:\n",
        "   p = [i for i in s.lower() if i.isalnum()]\n",
        "   return p == p[::-1]"
      ],
      "metadata": {
        "id": "YyrBdTGCg9aL"
      },
      "execution_count": null,
      "outputs": []
    },
    {
      "cell_type": "code",
      "source": [
        "def palindrome(s: str) -> bool:\n",
        "  str = \"\"\n",
        "  for i in s.lower():\n",
        "    if i.isalnum():\n",
        "      str+=i\n",
        "  return str == str[::-1]"
      ],
      "metadata": {
        "id": "vE_ubFp3JoeL"
      },
      "execution_count": null,
      "outputs": []
    },
    {
      "cell_type": "code",
      "source": [
        "for i in s:\n",
        "  print(palindrome(i))"
      ],
      "metadata": {
        "colab": {
          "base_uri": "https://localhost:8080/"
        },
        "id": "vXfvYsABJ0qf",
        "outputId": "a2fcbcb5-73d5-439b-c86e-40e5a7969c18"
      },
      "execution_count": null,
      "outputs": [
        {
          "output_type": "stream",
          "name": "stdout",
          "text": [
            "True\n",
            "False\n",
            "True\n"
          ]
        }
      ]
    },
    {
      "cell_type": "code",
      "source": [
        "s = [\"A man, a plan, a canal: Panama\",\"race a car\",\" \"]"
      ],
      "metadata": {
        "id": "dD2RPPf3ZQ1s"
      },
      "execution_count": null,
      "outputs": []
    },
    {
      "cell_type": "code",
      "source": [
        "%time\n",
        "for i in s:\n",
        "  print(isPalindrome(i))"
      ],
      "metadata": {
        "colab": {
          "base_uri": "https://localhost:8080/"
        },
        "id": "5W5ayvwAZ-zz",
        "outputId": "5f101001-abd5-4946-8d98-fd5f73b891d5"
      },
      "execution_count": null,
      "outputs": [
        {
          "output_type": "stream",
          "name": "stdout",
          "text": [
            "CPU times: user 4 µs, sys: 0 ns, total: 4 µs\n",
            "Wall time: 6.91 µs\n",
            "True\n",
            "False\n",
            "True\n"
          ]
        }
      ]
    },
    {
      "cell_type": "code",
      "source": [
        "%time\n",
        "for i in s:\n",
        "  print(isPalindrome1(i))"
      ],
      "metadata": {
        "colab": {
          "base_uri": "https://localhost:8080/"
        },
        "id": "y_klmrqEZBR-",
        "outputId": "eb817f7a-7db1-401c-9fdd-8708bf2210cb"
      },
      "execution_count": null,
      "outputs": [
        {
          "output_type": "stream",
          "name": "stdout",
          "text": [
            "CPU times: user 3 µs, sys: 0 ns, total: 3 µs\n",
            "Wall time: 7.15 µs\n",
            "True\n",
            "False\n",
            "True\n"
          ]
        }
      ]
    },
    {
      "cell_type": "code",
      "source": [
        "%time\n",
        "for i in s:\n",
        "  print(isPalindrome2(i))"
      ],
      "metadata": {
        "colab": {
          "base_uri": "https://localhost:8080/"
        },
        "id": "jDnbiyFwZfyy",
        "outputId": "77810db1-8d00-42bd-9160-32282f5a00a8"
      },
      "execution_count": null,
      "outputs": [
        {
          "output_type": "stream",
          "name": "stdout",
          "text": [
            "CPU times: user 3 µs, sys: 0 ns, total: 3 µs\n",
            "Wall time: 7.63 µs\n",
            "True\n",
            "False\n",
            "True\n"
          ]
        }
      ]
    },
    {
      "cell_type": "markdown",
      "source": [
        "## Palindrome for a Number"
      ],
      "metadata": {
        "id": "to8ehhqAoUiI"
      }
    },
    {
      "cell_type": "code",
      "source": [
        "def numPalindrome(n: int) -> bool:\n",
        "  if n < 0:\n",
        "    return False\n",
        "\n",
        "  temp = n\n",
        "  reverse = 0\n",
        "\n",
        "  while temp != 0:\n",
        "    digit = n % 10\n",
        "    reverse = reverse * 10 + digit\n",
        "    temp //= 10\n",
        "  return reverse == n"
      ],
      "metadata": {
        "id": "m-arpfOgoXvn"
      },
      "execution_count": null,
      "outputs": []
    },
    {
      "cell_type": "code",
      "source": [
        "numPalindrome(1001)"
      ],
      "metadata": {
        "colab": {
          "base_uri": "https://localhost:8080/"
        },
        "id": "rXC8WgBooYON",
        "outputId": "7ea32027-7f99-49eb-c19a-229cef12fd6f"
      },
      "execution_count": null,
      "outputs": [
        {
          "output_type": "execute_result",
          "data": {
            "text/plain": [
              "False"
            ]
          },
          "metadata": {},
          "execution_count": 14
        }
      ]
    },
    {
      "cell_type": "markdown",
      "source": [
        "## 2 Point Sum - Sorted list"
      ],
      "metadata": {
        "id": "bxKjLPFRC27K"
      }
    },
    {
      "cell_type": "code",
      "source": [
        "def twoSum(numbers:list[int], target:int) -> list[int]:\n",
        "  l,r = 0,len(numbers)-1\n",
        "  while numbers[l]+numbers[r]!=target:\n",
        "    sum = numbers[l]+numbers[r]\n",
        "    if sum < target:\n",
        "      l+=1\n",
        "    elif sum > target:\n",
        "      r-=1\n",
        "  return [l+1,r+1]"
      ],
      "metadata": {
        "id": "4sh3Sou-C3qv"
      },
      "execution_count": null,
      "outputs": []
    },
    {
      "cell_type": "markdown",
      "source": [
        "# Sliding Window"
      ],
      "metadata": {
        "id": "5m3_N9j6CQMc"
      }
    },
    {
      "cell_type": "markdown",
      "source": [
        "## Buy Low Sell High Stocks"
      ],
      "metadata": {
        "id": "_youUtT3td04"
      }
    },
    {
      "cell_type": "code",
      "source": [
        "prices = [7,1,5,3,6,4]"
      ],
      "metadata": {
        "id": "RySraLH4lcgq"
      },
      "execution_count": null,
      "outputs": []
    },
    {
      "cell_type": "code",
      "source": [
        "l = sorted(list(enumerate(prices)), key=lambda x:x[1])\n",
        "print(l)"
      ],
      "metadata": {
        "colab": {
          "base_uri": "https://localhost:8080/"
        },
        "id": "ezsg5tqhlxcd",
        "outputId": "f610b154-7ffe-4afa-9331-8007289f84b3"
      },
      "execution_count": null,
      "outputs": [
        {
          "output_type": "execute_result",
          "data": {
            "text/plain": [
              "[(1, 1), (3, 3), (5, 4), (2, 5), (4, 6), (0, 7)]"
            ]
          },
          "metadata": {},
          "execution_count": 10
        }
      ]
    },
    {
      "cell_type": "code",
      "source": [
        "buy=prices[0]\n",
        "sell=prices[0]\n",
        "current_profit = sell-buy\n",
        "for price in prices:\n",
        "  if price < buy:\n",
        "    buy = price\n",
        "    sell = price\n",
        "  if price > sell:\n",
        "    sell = price\n",
        "current_profit = sell-buy\n",
        "print(current_profit)"
      ],
      "metadata": {
        "colab": {
          "base_uri": "https://localhost:8080/"
        },
        "id": "hPM5WXcOwag2",
        "outputId": "81893aab-31ea-4648-f093-c10dd79c79e2"
      },
      "execution_count": null,
      "outputs": [
        {
          "output_type": "stream",
          "name": "stdout",
          "text": [
            "5\n"
          ]
        }
      ]
    },
    {
      "cell_type": "code",
      "source": [
        "def maxProfit(prices: list) -> int:\n",
        "  buy, sell = prices[0], prices[0]\n",
        "  current_profit = sell-buy\n",
        "  for price in prices:\n",
        "    if price < buy:\n",
        "      buy=price\n",
        "      sell=price\n",
        "    if price > sell:\n",
        "      sell=price\n",
        "    if sell - buy > current_profit:\n",
        "      current_profit = sell - buy\n",
        "  return current_profit"
      ],
      "metadata": {
        "id": "dla9eAVEwk96"
      },
      "execution_count": null,
      "outputs": []
    },
    {
      "cell_type": "code",
      "source": [
        "def maxProfit1(prices: list) -> int:\n",
        "  buy, sell = 0,1\n",
        "  max_profit = 0\n",
        "  while sell < len(prices):\n",
        "    if prices[buy] < prices[sell]:\n",
        "      profit = prices[sell] - prices[buy]\n",
        "      max_profit = max(max_profit, profit)\n",
        "    else:\n",
        "      buy = sell\n",
        "    sell += 1\n",
        "  return max_profit"
      ],
      "metadata": {
        "id": "bH0goad60cY2"
      },
      "execution_count": null,
      "outputs": []
    },
    {
      "cell_type": "code",
      "source": [
        "%time\n",
        "maxProfit(prices)"
      ],
      "metadata": {
        "colab": {
          "base_uri": "https://localhost:8080/"
        },
        "id": "9XAwnH_EveoO",
        "outputId": "b7edf946-a141-4ecf-c470-9754336383d3"
      },
      "execution_count": null,
      "outputs": [
        {
          "output_type": "stream",
          "name": "stdout",
          "text": [
            "CPU times: user 4 µs, sys: 0 ns, total: 4 µs\n",
            "Wall time: 8.58 µs\n"
          ]
        },
        {
          "output_type": "execute_result",
          "data": {
            "text/plain": [
              "5"
            ]
          },
          "metadata": {},
          "execution_count": 32
        }
      ]
    },
    {
      "cell_type": "code",
      "source": [
        "%time\n",
        "maxProfit1(prices)"
      ],
      "metadata": {
        "colab": {
          "base_uri": "https://localhost:8080/"
        },
        "id": "iTQpTW-PxS8u",
        "outputId": "8fa920e9-c413-413e-bb89-2dbdcb4de12f"
      },
      "execution_count": null,
      "outputs": [
        {
          "output_type": "stream",
          "name": "stdout",
          "text": [
            "CPU times: user 4 µs, sys: 0 ns, total: 4 µs\n",
            "Wall time: 8.11 µs\n"
          ]
        },
        {
          "output_type": "execute_result",
          "data": {
            "text/plain": [
              "5"
            ]
          },
          "metadata": {},
          "execution_count": 33
        }
      ]
    },
    {
      "cell_type": "markdown",
      "source": [
        "# Stack"
      ],
      "metadata": {
        "id": "Lm7dHjT_yzgQ"
      }
    },
    {
      "cell_type": "markdown",
      "source": [
        "## Valid Closing Parentheses (LIFO)"
      ],
      "metadata": {
        "id": "Me9FPIbd011q"
      }
    },
    {
      "cell_type": "code",
      "source": [
        "def isValid(s: str) -> bool:\n",
        "  stack = []\n",
        "  pairs = {\n",
        "      '(':')',\n",
        "      '{':'}',\n",
        "      '[':']'\n",
        "  }\n",
        "  for bracket in s:\n",
        "    if bracket in pairs:\n",
        "      stack.append(bracket)\n",
        "    elif len(stack)==0 or bracket != pairs[stack.pop()]:\n",
        "      return False\n",
        "\n",
        "  return len(stack)==0"
      ],
      "metadata": {
        "id": "tCtW_EN2xVNg"
      },
      "execution_count": null,
      "outputs": []
    },
    {
      "cell_type": "code",
      "source": [
        "isValid(\"()[]{}\")"
      ],
      "metadata": {
        "colab": {
          "base_uri": "https://localhost:8080/"
        },
        "id": "jeWjGFgU0A6E",
        "outputId": "188e07a8-c683-4983-ab57-296336e500d3"
      },
      "execution_count": null,
      "outputs": [
        {
          "output_type": "execute_result",
          "data": {
            "text/plain": [
              "True"
            ]
          },
          "metadata": {},
          "execution_count": 50
        }
      ]
    },
    {
      "cell_type": "markdown",
      "source": [
        "## Stack Class\n",
        "\n"
      ],
      "metadata": {
        "id": "IIQrV_fQ0wjQ"
      }
    },
    {
      "cell_type": "code",
      "source": [
        "from collections import deque\n",
        "class Stack:\n",
        "    def __init__(self):\n",
        "        self.container = deque()\n",
        "\n",
        "    def push(self,val):\n",
        "        self.container.append(val)\n",
        "\n",
        "    def pop(self):\n",
        "        return self.container.pop()\n",
        "\n",
        "    def peek(self):\n",
        "        return  self.container[-1]\n",
        "\n",
        "    def is_empty(self):\n",
        "        return len(self.container)==0\n",
        "\n",
        "    def size(self):\n",
        "        return len(self.container)"
      ],
      "metadata": {
        "id": "7ZSGn15GQiBy"
      },
      "execution_count": null,
      "outputs": []
    },
    {
      "cell_type": "code",
      "source": [
        "\"\"\"\n",
        "is_balanced(\"({a+b})\")     --> True\n",
        "is_balanced(\"))((a+b}{\")   --> False\n",
        "is_balanced(\"((a+b))\")     --> True\n",
        "is_balanced(\"))\")          --> False\n",
        "is_balanced(\"[a+b]*(x+2y)*{gg+kk}\") --> True\n",
        "\"\"\""
      ],
      "metadata": {
        "colab": {
          "base_uri": "https://localhost:8080/",
          "height": 53
        },
        "id": "ycKrg_rKRRCK",
        "outputId": "e92115ac-b809-4fb1-adae-3be0d463516a"
      },
      "execution_count": null,
      "outputs": [
        {
          "output_type": "execute_result",
          "data": {
            "text/plain": [
              "'\\nis_balanced(\"({a+b})\")     --> True\\nis_balanced(\"))((a+b}{\")   --> False\\nis_balanced(\"((a+b))\")     --> True\\nis_balanced(\"))\")          --> False\\nis_balanced(\"[a+b]*(x+2y)*{gg+kk}\") --> True\\n'"
            ],
            "application/vnd.google.colaboratory.intrinsic+json": {
              "type": "string"
            }
          },
          "metadata": {},
          "execution_count": 4
        }
      ]
    },
    {
      "cell_type": "markdown",
      "source": [
        "### Solution using Class from codebasics Youtube challenge"
      ],
      "metadata": {
        "id": "FFs5JeVG2MAN"
      }
    },
    {
      "cell_type": "code",
      "source": [
        "def is_match(ch1, ch2):\n",
        "    match_dict = {\n",
        "        ')': '(',\n",
        "        ']': '[',\n",
        "        '}': '{'\n",
        "    }\n",
        "    return match_dict[ch1] == ch2\n",
        "\n",
        "\n",
        "def is_balanced1(s):\n",
        "    stack = Stack()\n",
        "    for ch in s:\n",
        "        if ch=='(' or ch=='{' or ch == '[':\n",
        "            stack.push(ch)\n",
        "        if ch==')' or ch=='}' or ch == ']':\n",
        "            if stack.size()==0:\n",
        "                return False\n",
        "            if not is_match(ch,stack.pop()):\n",
        "                return False\n",
        "\n",
        "    return stack.size()==0"
      ],
      "metadata": {
        "id": "PjTF5sodXfLy"
      },
      "execution_count": null,
      "outputs": []
    },
    {
      "cell_type": "code",
      "source": [
        "%time is_balanced1(\"({a+b})\")"
      ],
      "metadata": {
        "colab": {
          "base_uri": "https://localhost:8080/"
        },
        "id": "5YsDGOzxrBAa",
        "outputId": "40ddcf52-68bf-4765-9eb7-6db1a829f88d"
      },
      "execution_count": null,
      "outputs": [
        {
          "output_type": "stream",
          "name": "stdout",
          "text": [
            "CPU times: user 18 µs, sys: 3 µs, total: 21 µs\n",
            "Wall time: 26.2 µs\n"
          ]
        },
        {
          "output_type": "execute_result",
          "data": {
            "text/plain": [
              "True"
            ]
          },
          "metadata": {},
          "execution_count": 54
        }
      ]
    },
    {
      "cell_type": "markdown",
      "source": [
        "# Binary Search"
      ],
      "metadata": {
        "id": "hIrpUnKVoh-W"
      }
    },
    {
      "cell_type": "code",
      "source": [
        "nums = [-1,0,3,5,9,12]\n",
        "nums1 = []\n",
        "target = 9"
      ],
      "metadata": {
        "id": "cjs8kjmUpZ1S"
      },
      "execution_count": null,
      "outputs": []
    },
    {
      "cell_type": "code",
      "source": [
        "def search(nums: list[int], target: int)-> int:\n",
        "  find = [i for i,v in enumerate(nums) if v == target]\n",
        "  if find == []:\n",
        "    return -1\n",
        "  return find[0]"
      ],
      "metadata": {
        "id": "BpNXVVXbohgi"
      },
      "execution_count": null,
      "outputs": []
    },
    {
      "cell_type": "code",
      "source": [
        "search(nums1, target)"
      ],
      "metadata": {
        "colab": {
          "base_uri": "https://localhost:8080/"
        },
        "id": "PbFjEA7v2ulD",
        "outputId": "3547a395-02e2-47fc-880a-58b2bacd0083"
      },
      "execution_count": null,
      "outputs": [
        {
          "output_type": "execute_result",
          "data": {
            "text/plain": [
              "-1"
            ]
          },
          "metadata": {},
          "execution_count": 67
        }
      ]
    },
    {
      "cell_type": "markdown",
      "source": [
        "## Binary Search approach O(logn)"
      ],
      "metadata": {
        "id": "VsDfy0G8swLh"
      }
    },
    {
      "cell_type": "code",
      "source": [
        "def search1(nums: list[int], target: int)-> int:\n",
        "  l,r = 0, len(nums)-1 # l = left, r = right\n",
        "  while l <= r:\n",
        "    m = l +((r-l)//2) # m = mid point\n",
        "    if nums[m] > target:\n",
        "      r = m - 1\n",
        "    elif nums[m] < target:\n",
        "      l = m + 1\n",
        "    else:\n",
        "      return m\n",
        "  return -1"
      ],
      "metadata": {
        "id": "Y7AF6YIOp4qL"
      },
      "execution_count": null,
      "outputs": []
    },
    {
      "cell_type": "markdown",
      "source": [
        "## Largest Subarray"
      ],
      "metadata": {
        "id": "DqXdIiAByu3A"
      }
    },
    {
      "cell_type": "code",
      "source": [
        "nums = [-2,1,-3,4,-1,2,1,-5,4]"
      ],
      "metadata": {
        "id": "2iFUCnKAzAxY"
      },
      "execution_count": null,
      "outputs": []
    },
    {
      "cell_type": "code",
      "source": [
        "def maxSubArray(nums: list[int]) -> int:\n",
        "  maxsum = nums[0]\n",
        "  sum = 0\n",
        "\n",
        "  for num in nums:\n",
        "    if sum < 0:\n",
        "      sum = 0\n",
        "    sum += num\n",
        "    maxsum = max(maxsum, sum)\n",
        "  return maxsum"
      ],
      "metadata": {
        "id": "RoJcHDZ4sife"
      },
      "execution_count": null,
      "outputs": []
    },
    {
      "cell_type": "code",
      "source": [
        "maxSubArray(nums)"
      ],
      "metadata": {
        "colab": {
          "base_uri": "https://localhost:8080/"
        },
        "id": "L6W-F1y11o-D",
        "outputId": "bf9c11fb-c3cf-43ce-dd9d-61d94806cf2c"
      },
      "execution_count": null,
      "outputs": [
        {
          "output_type": "execute_result",
          "data": {
            "text/plain": [
              "6"
            ]
          },
          "metadata": {},
          "execution_count": 3
        }
      ]
    },
    {
      "cell_type": "code",
      "source": [
        "def returnSubArray(nums: list[int]) -> list[int]:\n",
        "  maxsum = [nums[0]]\n",
        "  cursum = []\n",
        "\n",
        "  for num in nums:\n",
        "    if sum(cursum) < 0:\n",
        "      cursum = []\n",
        "    cursum.append(num)\n",
        "    cursubsum = sum(cursum)\n",
        "    maxsubsum = sum(maxsum)\n",
        "    if cursubsum > maxsubsum:\n",
        "      maxsum = cursum\n",
        "  return maxsum"
      ],
      "metadata": {
        "id": "7r9qh9Qh1r25"
      },
      "execution_count": null,
      "outputs": []
    },
    {
      "cell_type": "code",
      "source": [
        "returnSubArray(nums)"
      ],
      "metadata": {
        "colab": {
          "base_uri": "https://localhost:8080/"
        },
        "id": "q50vGqnN4BeA",
        "outputId": "7088935e-cbb6-474e-80dc-cc4d6b50cb1a"
      },
      "execution_count": null,
      "outputs": [
        {
          "output_type": "execute_result",
          "data": {
            "text/plain": [
              "[4, -1, 2, 1, -5, 4]"
            ]
          },
          "metadata": {},
          "execution_count": 41
        }
      ]
    },
    {
      "cell_type": "code",
      "source": [
        "def maxSubArray1(nums: list[int]) -> int:\n",
        "  maxSum,subArray = nums[0],0\n",
        "\n",
        "  for i in range(len(nums)):\n",
        "    subArray += nums[i]\n",
        "    maxSum = max(maxSum, subArray)\n",
        "    subArray = max(subArray, 0)\n",
        "  return maxSum"
      ],
      "metadata": {
        "id": "l-Z5NSyZ-H31"
      },
      "execution_count": null,
      "outputs": []
    },
    {
      "cell_type": "code",
      "source": [
        "maxSubArray1([-1])"
      ],
      "metadata": {
        "colab": {
          "base_uri": "https://localhost:8080/"
        },
        "id": "aoGwvBKI_PVr",
        "outputId": "2269183b-a382-4b32-954a-41c8c7b2d5c4"
      },
      "execution_count": null,
      "outputs": [
        {
          "output_type": "execute_result",
          "data": {
            "text/plain": [
              "-1"
            ]
          },
          "metadata": {},
          "execution_count": 48
        }
      ]
    },
    {
      "cell_type": "markdown",
      "source": [
        "# Heap / Priority Queue"
      ],
      "metadata": {
        "id": "BXJkNv97F0__"
      }
    },
    {
      "cell_type": "markdown",
      "source": [
        "## Kth Largest Element In a Stream"
      ],
      "metadata": {
        "id": "PTvziju4F5RC"
      }
    },
    {
      "cell_type": "code",
      "source": [
        "import heapq\n",
        "class KthLargest:\n",
        "\n",
        "    def __init__(self, k: int, nums: list[int]):\n",
        "        self.k = k\n",
        "        self.heap = nums\n",
        "        heapq.heapify(self.heap)\n",
        "        while len(self.heap) > k:\n",
        "            heapq.heappop(self.heap)\n",
        "\n",
        "    def add(self, val: int) -> int:\n",
        "        heapq.heappush(self.heap, val)\n",
        "        if self.k < len(self.heap):\n",
        "            heapq.heappop(self.heap)\n",
        "\n",
        "        return self.heap[0]"
      ],
      "metadata": {
        "id": "lvAPbojKF9TL"
      },
      "execution_count": null,
      "outputs": []
    },
    {
      "cell_type": "code",
      "source": [
        "obj = KthLargest(3, [4, 5, 8, 2])\n",
        "param_1 = obj.add(6)\n",
        "print(param_1)"
      ],
      "metadata": {
        "colab": {
          "base_uri": "https://localhost:8080/"
        },
        "id": "ut_hbC5SGDbf",
        "outputId": "cbc85796-d795-432d-d2f5-4354e63a8ac7"
      },
      "execution_count": null,
      "outputs": [
        {
          "output_type": "stream",
          "name": "stdout",
          "text": [
            "5\n"
          ]
        }
      ]
    },
    {
      "cell_type": "markdown",
      "source": [
        "# Linked List"
      ],
      "metadata": {
        "id": "eaUH5vITDn31"
      }
    },
    {
      "cell_type": "markdown",
      "source": [
        "## Reverse Linked List"
      ],
      "metadata": {
        "id": "L9J7wJX9Dppm"
      }
    },
    {
      "cell_type": "code",
      "source": [
        "# Definition for singly-linked list.\n",
        "def reverseList(self, head: Optional[ListNode]) -> Optional[ListNode]:\n",
        "\n",
        "  prev, curr = None, head\n",
        "  while curr:\n",
        "      nxt = curr.next\n",
        "      curr.next = prev\n",
        "      prev = curr\n",
        "      curr = nxt\n",
        "  return prev"
      ],
      "metadata": {
        "id": "Wl5D31AODsv3"
      },
      "execution_count": null,
      "outputs": []
    },
    {
      "cell_type": "markdown",
      "source": [
        "## Merge Two Sorted Lists"
      ],
      "metadata": {
        "id": "lyoxz6buFmeN"
      }
    },
    {
      "cell_type": "code",
      "source": [
        "def mergeTwoLists(self,\n",
        "                  list1: Optional[ListNode],\n",
        "                  list2: Optional[ListNode]) -> Optional[ListNode]:\n",
        "   dummy = ListNode()\n",
        "   tail = dummy\n",
        "\n",
        "   while list1 and list2:\n",
        "       if list1.val < list2.val:\n",
        "           tail.next = list1\n",
        "           list1 = list1.next\n",
        "       else:\n",
        "           tail.next = list2\n",
        "           list2 = list2.next\n",
        "       tail = tail.next\n",
        "\n",
        "   if list1:\n",
        "       tail.next = list1\n",
        "   elif list2:\n",
        "       tail.next = list2\n",
        "\n",
        "   return dummy.next"
      ],
      "metadata": {
        "id": "iWsaSvapFoO0"
      },
      "execution_count": null,
      "outputs": []
    },
    {
      "cell_type": "markdown",
      "source": [
        "## removeKFromList"
      ],
      "metadata": {
        "id": "H0ZliCgtNBqJ"
      }
    },
    {
      "cell_type": "code",
      "source": [
        "l = [3, 1, 2, 3, 4, 5]\n",
        "k = 3"
      ],
      "metadata": {
        "id": "cE59uzKbRwqK"
      },
      "execution_count": 4,
      "outputs": []
    },
    {
      "cell_type": "code",
      "source": [
        "from typing import TypeAlias, Optional\n",
        "\n",
        "ListNode: TypeAlias\n",
        "\n",
        "class Node(object):\n",
        "  def __init__(self, value=None, next=None):\n",
        "    self.value = value\n",
        "    self.next = next\n",
        "\n",
        "class ListNode(Node):\n",
        "  def __init__(self: Optional['ListNode'], head=None):\n",
        "    self.head = head\n",
        "\n",
        "  def print(self: Optional['ListNode']):\n",
        "    if self.head == None:\n",
        "      print('Linked list is empty')\n",
        "      return\n",
        "\n",
        "    itr = self.head\n",
        "    llstr = ''\n",
        "\n",
        "    while itr:\n",
        "      llstr += str(itr.value)+'-->'\n",
        "      itr = itr.next\n",
        "    print(llstr)\n",
        "\n",
        "  def removeKFromList(self: Optional['ListNode'], k: int)-> None:\n",
        "    while self.head and self.head.value == k:\n",
        "      self.head = self.head.next\n",
        "\n",
        "    if self.head is None:\n",
        "      return l\n",
        "\n",
        "    curr = self.head\n",
        "\n",
        "    while curr.next:\n",
        "      if curr.next.value == k:\n",
        "        curr.next = curr.next.next\n",
        "      else:\n",
        "        curr = curr.next"
      ],
      "metadata": {
        "id": "hIKmsUp8NSFo"
      },
      "execution_count": 38,
      "outputs": []
    },
    {
      "cell_type": "code",
      "source": [
        "# Create a new instance of the ListNode class\n",
        "linked_list = ListNode()\n",
        "\n",
        "# Add nodes to the linked list\n",
        "linked_list.head = Node(1)\n",
        "linked_list.head.next = Node(2)\n",
        "linked_list.head.next.next = Node(3)\n",
        "linked_list.head.next.next.next = Node(2)\n",
        "linked_list.head.next.next.next.next = Node(4)\n",
        "\n",
        "# Print Linked List before removal\n",
        "linked_list.print()\n",
        "\n",
        "# Call the removeKFromList method on the linked list\n",
        "new_head = linked_list.removeKFromList(2)\n",
        "\n",
        "# Print Linked List after removal\n",
        "linked_list.print()\n"
      ],
      "metadata": {
        "colab": {
          "base_uri": "https://localhost:8080/"
        },
        "id": "2kvE59orRu3N",
        "outputId": "66dbeca3-77e7-42a8-8b3b-8546e7cf52fd"
      },
      "execution_count": 39,
      "outputs": [
        {
          "output_type": "stream",
          "name": "stdout",
          "text": [
            "1-->2-->3-->2-->4-->\n",
            "1-->3-->4-->\n"
          ]
        }
      ]
    },
    {
      "cell_type": "markdown",
      "source": [
        "# Extra"
      ],
      "metadata": {
        "id": "XacUdqBoDk6h"
      }
    },
    {
      "cell_type": "markdown",
      "source": [
        "## Spotify interview question"
      ],
      "metadata": {
        "id": "L0AsuLB6TtLS"
      }
    },
    {
      "cell_type": "markdown",
      "source": [
        "For the `window_size` defined in the constructor, when accept() is called,\n",
        "return the average of the last `window_size` values seen.  If we haven't\n",
        "seen `window_size` values yet, return the average of the values we have\n",
        "seen.\n",
        "\n",
        "i.e: If `window_size` == 3, then when accept(x) is called return the\n",
        "average of the last 3 numbers `accept` has recieved."
      ],
      "metadata": {
        "id": "MrP5kURDT5lC"
      }
    },
    {
      "cell_type": "code",
      "source": [
        "import unittest\n",
        "\n",
        "class WindowedAverager:\n",
        "\n",
        "    # Constructor\n",
        "    def __init__(self, window_size: int):\n",
        "        self.window_size = window_size\n",
        "        \"\"\"\n",
        "        Include a list to save each value of 'accept' to know what to\n",
        "        average across\n",
        "        \"\"\"\n",
        "        self.l = []\n",
        "\n",
        "    def accept(self, x: int) -> float:\n",
        "        \"\"\"\n",
        "        Args:\n",
        "            x (int): The value to add to the window\n",
        "\n",
        "        Returns:\n",
        "            float: The average of the last `window_size` values seen.  If we\n",
        "                haven't seen `window_size` values yet, return the average\n",
        "                of all values currently in the window.\n",
        "        \"\"\"\n",
        "        self.l.append(x)\n",
        "        if len(self.l) > self.window_size:\n",
        "            self.l.pop(0)\n",
        "\n",
        "        return sum(self.l)/ len(self.l)\n",
        "\n",
        "\n",
        "\n",
        "# RUNNER - DO NOT CHANGE\n",
        "class TestHandler(unittest.TestCase):\n",
        "    def test_handler(self):\n",
        "        sh = WindowedAverager(3)\n",
        "        self.assertEqual(sh.accept(1), 1.0)\n",
        "        self.assertEqual(sh.accept(2), 1.5)\n",
        "        self.assertEqual(sh.accept(3), 2.0)\n",
        "        self.assertEqual(sh.accept(4), 3.0)\n",
        "\n",
        "testclass = unittest.main(exit=False)\n",
        "if testclass.result.wasSuccessful():\n",
        "    print(\"Test pass -- woohoo!\")"
      ],
      "metadata": {
        "id": "4TmZCbzu_SDV"
      },
      "execution_count": null,
      "outputs": []
    },
    {
      "cell_type": "code",
      "source": [
        "def accept(x: int, window_size: int) -> float:\n",
        "  l = []\n",
        "  l.append(x)\n",
        "  if len(l) > window_size:\n",
        "    l.pop(0)\n",
        "  return sum(l)/ len(l)"
      ],
      "metadata": {
        "id": "EaPAA-uLUU3T"
      },
      "execution_count": null,
      "outputs": []
    },
    {
      "cell_type": "markdown",
      "source": [
        "## shapeArea"
      ],
      "metadata": {
        "id": "pKXUUF3ew-c1"
      }
    },
    {
      "cell_type": "markdown",
      "source": [
        "![Screenshot 2023-10-14 at 16.18.30.png](data:image/png;base64,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)"
      ],
      "metadata": {
        "id": "KahJdIo3xKk6"
      }
    },
    {
      "cell_type": "code",
      "source": [
        "def shapeArea(n: int) -> int:\n",
        "    if n == 0:\n",
        "        return 0\n",
        "    elif n == 1:\n",
        "        return 1\n",
        "\n",
        "    value = 1\n",
        "    for i in range(1,n+1):\n",
        "        value += (i-1) * 4\n",
        "    return value"
      ],
      "metadata": {
        "id": "lKf-RFQ0sIpJ"
      },
      "execution_count": 1,
      "outputs": []
    },
    {
      "cell_type": "code",
      "source": [
        "shapeArea(3)"
      ],
      "metadata": {
        "colab": {
          "base_uri": "https://localhost:8080/"
        },
        "id": "fbkyLwv9xof2",
        "outputId": "57480091-2f32-4cc1-d4ec-0b3f3e82bc15"
      },
      "execution_count": 9,
      "outputs": [
        {
          "output_type": "execute_result",
          "data": {
            "text/plain": [
              "13"
            ]
          },
          "metadata": {},
          "execution_count": 9
        }
      ]
    },
    {
      "cell_type": "code",
      "source": [
        "def shapeAreaFormula(n: int) -> int:\n",
        "  return n**2 + (n-1)**2"
      ],
      "metadata": {
        "id": "Z8h_V1Z1xTHC"
      },
      "execution_count": 2,
      "outputs": []
    },
    {
      "cell_type": "code",
      "source": [
        "shapeAreaFormula(4)"
      ],
      "metadata": {
        "colab": {
          "base_uri": "https://localhost:8080/"
        },
        "id": "9KtuMHQWxgKF",
        "outputId": "33b64123-1809-4dee-a79d-1a7fe54538e5"
      },
      "execution_count": 11,
      "outputs": [
        {
          "output_type": "execute_result",
          "data": {
            "text/plain": [
              "25"
            ]
          },
          "metadata": {},
          "execution_count": 11
        }
      ]
    },
    {
      "cell_type": "code",
      "source": [],
      "metadata": {
        "id": "nkM_9lwIxiQa"
      },
      "execution_count": null,
      "outputs": []
    }
  ]
}