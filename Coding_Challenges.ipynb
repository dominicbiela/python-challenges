{
  "nbformat": 4,
  "nbformat_minor": 0,
  "metadata": {
    "colab": {
      "provenance": [],
      "authorship_tag": "ABX9TyPSxdjqjP3labrdcvnQqEfC",
      "include_colab_link": true
    },
    "kernelspec": {
      "name": "python3",
      "display_name": "Python 3"
    },
    "language_info": {
      "name": "python"
    }
  },
  "cells": [
    {
      "cell_type": "markdown",
      "metadata": {
        "id": "view-in-github",
        "colab_type": "text"
      },
      "source": [
        "<a href=\"https://colab.research.google.com/github/dominicbiela/python-challenges/blob/main/Coding_Challenges.ipynb\" target=\"_parent\"><img src=\"https://colab.research.google.com/assets/colab-badge.svg\" alt=\"Open In Colab\"/></a>"
      ]
    },
    {
      "cell_type": "markdown",
      "source": [
        "# Fibonnaci Sequence"
      ],
      "metadata": {
        "id": "1UquDPWifUJK"
      }
    },
    {
      "cell_type": "code",
      "source": [
        "def fib(num:int)->int:\n",
        "  a,b = 0,1\n",
        "  for _ in range(num):\n",
        "    a,b = b, b + a\n",
        "  return a"
      ],
      "metadata": {
        "id": "AI0Y8d_GfT79"
      },
      "execution_count": null,
      "outputs": []
    },
    {
      "cell_type": "code",
      "source": [
        "fib(10)"
      ],
      "metadata": {
        "colab": {
          "base_uri": "https://localhost:8080/"
        },
        "id": "7z9gwBdbfmk6",
        "outputId": "ed2761aa-4c86-4389-8b8e-501c8cf77ecb"
      },
      "execution_count": null,
      "outputs": [
        {
          "output_type": "execute_result",
          "data": {
            "text/plain": [
              "55"
            ]
          },
          "metadata": {},
          "execution_count": 7
        }
      ]
    },
    {
      "cell_type": "markdown",
      "source": [
        "# Reverse String"
      ],
      "metadata": {
        "id": "ODZtCjJy0qkF"
      }
    },
    {
      "cell_type": "code",
      "execution_count": null,
      "metadata": {
        "id": "Kqlm3lqiQW0a"
      },
      "outputs": [],
      "source": [
        "str = \"We will conquere COVID-19\""
      ]
    },
    {
      "cell_type": "code",
      "source": [
        "str[::-1]"
      ],
      "metadata": {
        "colab": {
          "base_uri": "https://localhost:8080/",
          "height": 35
        },
        "id": "IoypTVFnQfWS",
        "outputId": "f5c9ce55-2e2d-43b0-a710-f8cbca563612"
      },
      "execution_count": null,
      "outputs": [
        {
          "output_type": "execute_result",
          "data": {
            "text/plain": [
              "'91-DIVOC ereuqnoc lliw eW'"
            ],
            "application/vnd.google.colaboratory.intrinsic+json": {
              "type": "string"
            }
          },
          "metadata": {},
          "execution_count": 7
        }
      ]
    },
    {
      "cell_type": "markdown",
      "source": [
        "# Reverse String with words still in right order"
      ],
      "metadata": {
        "id": "5QEghA7E021F"
      }
    },
    {
      "cell_type": "code",
      "source": [
        "\" \".join([s[::-1] for s in str.split()])"
      ],
      "metadata": {
        "colab": {
          "base_uri": "https://localhost:8080/",
          "height": 35
        },
        "id": "Y42fJjoj06WJ",
        "outputId": "01b68054-26ed-4997-d8c7-c65783e6e8f8"
      },
      "execution_count": null,
      "outputs": [
        {
          "output_type": "execute_result",
          "data": {
            "text/plain": [
              "'eW lliw ereuqnoc 91-DIVOC'"
            ],
            "application/vnd.google.colaboratory.intrinsic+json": {
              "type": "string"
            }
          },
          "metadata": {},
          "execution_count": 16
        }
      ]
    },
    {
      "cell_type": "markdown",
      "source": [
        "# Detect if any bracket kind has been closed"
      ],
      "metadata": {
        "id": "IIQrV_fQ0wjQ"
      }
    },
    {
      "cell_type": "code",
      "source": [
        "from collections import deque\n",
        "class Stack:\n",
        "    def __init__(self):\n",
        "        self.container = deque()\n",
        "\n",
        "    def push(self,val):\n",
        "        self.container.append(val)\n",
        "\n",
        "    def pop(self):\n",
        "        return self.container.pop()\n",
        "\n",
        "    def peek(self):\n",
        "        return  self.container[-1]\n",
        "\n",
        "    def is_empty(self):\n",
        "        return len(self.container)==0\n",
        "\n",
        "    def size(self):\n",
        "        return len(self.container)"
      ],
      "metadata": {
        "id": "7ZSGn15GQiBy"
      },
      "execution_count": null,
      "outputs": []
    },
    {
      "cell_type": "code",
      "source": [
        "\"\"\"\n",
        "is_balanced(\"({a+b})\")     --> True\n",
        "is_balanced(\"))((a+b}{\")   --> False\n",
        "is_balanced(\"((a+b))\")     --> True\n",
        "is_balanced(\"))\")          --> False\n",
        "is_balanced(\"[a+b]*(x+2y)*{gg+kk}\") --> True\n",
        "\"\"\""
      ],
      "metadata": {
        "colab": {
          "base_uri": "https://localhost:8080/",
          "height": 53
        },
        "id": "ycKrg_rKRRCK",
        "outputId": "e92115ac-b809-4fb1-adae-3be0d463516a"
      },
      "execution_count": null,
      "outputs": [
        {
          "output_type": "execute_result",
          "data": {
            "text/plain": [
              "'\\nis_balanced(\"({a+b})\")     --> True\\nis_balanced(\"))((a+b}{\")   --> False\\nis_balanced(\"((a+b))\")     --> True\\nis_balanced(\"))\")          --> False\\nis_balanced(\"[a+b]*(x+2y)*{gg+kk}\") --> True\\n'"
            ],
            "application/vnd.google.colaboratory.intrinsic+json": {
              "type": "string"
            }
          },
          "metadata": {},
          "execution_count": 4
        }
      ]
    },
    {
      "cell_type": "markdown",
      "source": [
        "# Option 1"
      ],
      "metadata": {
        "id": "pInBvrPm2KSE"
      }
    },
    {
      "cell_type": "code",
      "source": [
        "\n",
        "from collections import Counter, defaultdict\n",
        "def is_balanced(string):\n",
        "  count = Counter(string)\n",
        "  dict = {\"(\": count[\"(\"],\n",
        "          \")\": count[\")\"],\n",
        "          \"{\": count[\"{\"],\n",
        "          \"}\": count[\"}\"],\n",
        "          \"[\": count[\"[\"],\n",
        "          \"]\": count[\"]\"]}\n",
        "  is_balanced = True if dict[\"(\"] == dict[\")\"] and dict[\"{\"] == dict[\"}\"] and dict[\"[\"] == dict[\"]\"] else False\n",
        "  return is_balanced"
      ],
      "metadata": {
        "id": "cBqnwADQRWF7"
      },
      "execution_count": null,
      "outputs": []
    },
    {
      "cell_type": "code",
      "source": [
        "%time is_balanced(\"({a+b})\")"
      ],
      "metadata": {
        "colab": {
          "base_uri": "https://localhost:8080/"
        },
        "id": "Kacn3yO-XbwR",
        "outputId": "c880ff45-3931-4a78-9fd7-d15347392a98"
      },
      "execution_count": null,
      "outputs": [
        {
          "output_type": "stream",
          "name": "stdout",
          "text": [
            "CPU times: user 31 µs, sys: 0 ns, total: 31 µs\n",
            "Wall time: 37 µs\n"
          ]
        },
        {
          "output_type": "execute_result",
          "data": {
            "text/plain": [
              "True"
            ]
          },
          "metadata": {},
          "execution_count": 55
        }
      ]
    },
    {
      "cell_type": "markdown",
      "source": [
        "# Option2 (from codebasics Youtube challenge)"
      ],
      "metadata": {
        "id": "FFs5JeVG2MAN"
      }
    },
    {
      "cell_type": "code",
      "source": [
        "def is_match(ch1, ch2):\n",
        "    match_dict = {\n",
        "        ')': '(',\n",
        "        ']': '[',\n",
        "        '}': '{'\n",
        "    }\n",
        "    return match_dict[ch1] == ch2\n",
        "\n",
        "\n",
        "def is_balanced1(s):\n",
        "    stack = Stack()\n",
        "    for ch in s:\n",
        "        if ch=='(' or ch=='{' or ch == '[':\n",
        "            stack.push(ch)\n",
        "        if ch==')' or ch=='}' or ch == ']':\n",
        "            if stack.size()==0:\n",
        "                return False\n",
        "            if not is_match(ch,stack.pop()):\n",
        "                return False\n",
        "\n",
        "    return stack.size()==0"
      ],
      "metadata": {
        "id": "PjTF5sodXfLy"
      },
      "execution_count": null,
      "outputs": []
    },
    {
      "cell_type": "code",
      "source": [
        "%time is_balanced1(\"({a+b})\")"
      ],
      "metadata": {
        "colab": {
          "base_uri": "https://localhost:8080/"
        },
        "id": "5YsDGOzxrBAa",
        "outputId": "40ddcf52-68bf-4765-9eb7-6db1a829f88d"
      },
      "execution_count": null,
      "outputs": [
        {
          "output_type": "stream",
          "name": "stdout",
          "text": [
            "CPU times: user 18 µs, sys: 3 µs, total: 21 µs\n",
            "Wall time: 26.2 µs\n"
          ]
        },
        {
          "output_type": "execute_result",
          "data": {
            "text/plain": [
              "True"
            ]
          },
          "metadata": {},
          "execution_count": 54
        }
      ]
    },
    {
      "cell_type": "markdown",
      "source": [
        "# Array & Hashing"
      ],
      "metadata": {
        "id": "bZJlkorzCInl"
      }
    },
    {
      "cell_type": "markdown",
      "source": [
        "## Contains duplicates"
      ],
      "metadata": {
        "id": "3CgRraGN2Tdj"
      }
    },
    {
      "cell_type": "markdown",
      "source": [
        "## Option 1"
      ],
      "metadata": {
        "id": "7ZKR2IRD8D3u"
      }
    },
    {
      "cell_type": "code",
      "source": [
        "def containsDuplicate(nums: list[int]) -> bool:\n",
        "  return True if len(nums) != len(set(nums)) else False"
      ],
      "metadata": {
        "id": "MO5J-rw4rDnA"
      },
      "execution_count": null,
      "outputs": []
    },
    {
      "cell_type": "code",
      "source": [
        "nums = [[1,2,3,1],\n",
        "        [1,2,3,4],\n",
        "        [1,1,1,3,3,4,3,2,4,2]]"
      ],
      "metadata": {
        "id": "H25syILI2im8"
      },
      "execution_count": null,
      "outputs": []
    },
    {
      "cell_type": "code",
      "source": [
        "%time\n",
        "for n in nums:\n",
        "  print(containsDuplicate(n))"
      ],
      "metadata": {
        "colab": {
          "base_uri": "https://localhost:8080/"
        },
        "id": "JgtCD5X43UcU",
        "outputId": "62f7eee0-bd86-41f0-bab2-fa2a3310c622"
      },
      "execution_count": null,
      "outputs": [
        {
          "output_type": "stream",
          "name": "stdout",
          "text": [
            "CPU times: user 6 µs, sys: 0 ns, total: 6 µs\n",
            "Wall time: 10.3 µs\n",
            "True\n",
            "False\n",
            "True\n"
          ]
        }
      ]
    },
    {
      "cell_type": "markdown",
      "source": [
        "## Option 2"
      ],
      "metadata": {
        "id": "tNu-0caV8Bjj"
      }
    },
    {
      "cell_type": "code",
      "source": [
        "from collections import defaultdict\n",
        "def containsDuplicate1(nums: list[int]) -> bool:\n",
        "  hashset = set()\n",
        "\n",
        "  for n in nums:\n",
        "    if n in hashset:\n",
        "      return True\n",
        "    hashset.add(n)\n",
        "  return False"
      ],
      "metadata": {
        "id": "wYZDvwRy3bzc"
      },
      "execution_count": null,
      "outputs": []
    },
    {
      "cell_type": "code",
      "source": [
        "from collections import defaultdict\n",
        "def containsDuplicate2(nums: list[int]) -> bool:\n",
        "  hashset = set()\n",
        "  return any([True if n in hashset else hashset.add(n) for n in nums])"
      ],
      "metadata": {
        "id": "eidrelixDaYn"
      },
      "execution_count": null,
      "outputs": []
    },
    {
      "cell_type": "code",
      "source": [
        "%time\n",
        "for n in nums:\n",
        "  print(containsDuplicate1(n))"
      ],
      "metadata": {
        "colab": {
          "base_uri": "https://localhost:8080/"
        },
        "id": "17a2Bdxl7EFP",
        "outputId": "dd90a735-77dd-4e2c-efcd-e2c60f1dc705"
      },
      "execution_count": null,
      "outputs": [
        {
          "output_type": "stream",
          "name": "stdout",
          "text": [
            "CPU times: user 2 µs, sys: 0 ns, total: 2 µs\n",
            "Wall time: 5.25 µs\n",
            "True\n",
            "False\n",
            "True\n"
          ]
        }
      ]
    },
    {
      "cell_type": "code",
      "source": [
        "%time\n",
        "for n in nums:\n",
        "  print(containsDuplicate2(n))"
      ],
      "metadata": {
        "colab": {
          "base_uri": "https://localhost:8080/"
        },
        "id": "leNXrpawDiys",
        "outputId": "95cfd114-e594-49e4-d535-97a8616ba001"
      },
      "execution_count": null,
      "outputs": [
        {
          "output_type": "stream",
          "name": "stdout",
          "text": [
            "CPU times: user 3 µs, sys: 0 ns, total: 3 µs\n",
            "Wall time: 7.15 µs\n",
            "True\n",
            "False\n",
            "True\n"
          ]
        }
      ]
    },
    {
      "cell_type": "markdown",
      "source": [
        "## Valid Anagram"
      ],
      "metadata": {
        "id": "kYRuqAPRCMXg"
      }
    },
    {
      "cell_type": "code",
      "source": [
        "s = \"anagram\"\n",
        "t = \"nagaram\""
      ],
      "metadata": {
        "id": "ow6CqV2gChWv"
      },
      "execution_count": null,
      "outputs": []
    },
    {
      "cell_type": "code",
      "source": [
        "def isAnagram(s: str, t: str) -> bool:\n",
        "  return sorted(s) == sorted(t)"
      ],
      "metadata": {
        "id": "q-UGDtLkCPZt"
      },
      "execution_count": null,
      "outputs": []
    },
    {
      "cell_type": "code",
      "source": [
        "from collections import Counter\n",
        "def isAnagram1(s: str, t: str) -> bool:\n",
        "  return Counter(s) == Counter(t)"
      ],
      "metadata": {
        "id": "YAFhs68EFbs0"
      },
      "execution_count": null,
      "outputs": []
    },
    {
      "cell_type": "code",
      "source": [
        "from collections import defaultdict\n",
        "def isAnagram2(s: str, t: str) -> bool:\n",
        "  if len(s)!= len(t):\n",
        "    return False\n",
        "\n",
        "  shash, thash = defaultdict(int), defaultdict(int)\n",
        "\n",
        "  for i in range(len(s)):\n",
        "    shash[s[i]] = 1 + shash.get(s[i],0)\n",
        "    thash[s[i]] = 1 + thash.get(t[i],0)\n",
        "  for c in shash:\n",
        "    if shash[c] != thash.get(c,0):\n",
        "      return False\n",
        "  return True"
      ],
      "metadata": {
        "id": "0Alzgt2MEnSD"
      },
      "execution_count": null,
      "outputs": []
    },
    {
      "cell_type": "code",
      "source": [
        "%time\n",
        "isAnagram(s,t)"
      ],
      "metadata": {
        "colab": {
          "base_uri": "https://localhost:8080/"
        },
        "id": "FevDUs8iFwnS",
        "outputId": "7175e3b2-54fc-4cb7-b5b3-295741e6fb41"
      },
      "execution_count": null,
      "outputs": [
        {
          "output_type": "stream",
          "name": "stdout",
          "text": [
            "CPU times: user 4 µs, sys: 0 ns, total: 4 µs\n",
            "Wall time: 8.82 µs\n"
          ]
        },
        {
          "output_type": "execute_result",
          "data": {
            "text/plain": [
              "True"
            ]
          },
          "metadata": {},
          "execution_count": 78
        }
      ]
    },
    {
      "cell_type": "code",
      "source": [
        "%time\n",
        "isAnagram1(s,t)"
      ],
      "metadata": {
        "colab": {
          "base_uri": "https://localhost:8080/"
        },
        "id": "X9-a4fz7Fwej",
        "outputId": "b3684c42-bfb0-4b06-a023-d4099e93379d"
      },
      "execution_count": null,
      "outputs": [
        {
          "output_type": "stream",
          "name": "stdout",
          "text": [
            "CPU times: user 3 µs, sys: 0 ns, total: 3 µs\n",
            "Wall time: 7.63 µs\n"
          ]
        },
        {
          "output_type": "execute_result",
          "data": {
            "text/plain": [
              "True"
            ]
          },
          "metadata": {},
          "execution_count": 79
        }
      ]
    },
    {
      "cell_type": "code",
      "source": [
        "%time\n",
        "isAnagram2(s,t)"
      ],
      "metadata": {
        "colab": {
          "base_uri": "https://localhost:8080/"
        },
        "id": "A_T7Sjz7DQ6k",
        "outputId": "075490a0-3a01-4e02-8e1d-c32895a6f145"
      },
      "execution_count": null,
      "outputs": [
        {
          "output_type": "stream",
          "name": "stdout",
          "text": [
            "CPU times: user 4 µs, sys: 0 ns, total: 4 µs\n",
            "Wall time: 7.87 µs\n"
          ]
        },
        {
          "output_type": "execute_result",
          "data": {
            "text/plain": [
              "False"
            ]
          },
          "metadata": {},
          "execution_count": 80
        }
      ]
    },
    {
      "cell_type": "markdown",
      "source": [
        "## Two Sum"
      ],
      "metadata": {
        "id": "GbBkO7pfIGrO"
      }
    },
    {
      "cell_type": "code",
      "source": [
        "nums = [2,7,11,15]\n",
        "target = 9"
      ],
      "metadata": {
        "id": "i4RXkjjGIOXK"
      },
      "execution_count": null,
      "outputs": []
    },
    {
      "cell_type": "code",
      "source": [
        "from collections import defaultdict\n",
        "def twoSum(nums: list[int], target: int) -> list[int]:\n",
        "  check = defaultdict(int)\n",
        "  for num in nums:\n",
        "    check[num] = target - num"
      ],
      "metadata": {
        "id": "QU4GpXY-IJDC"
      },
      "execution_count": null,
      "outputs": []
    },
    {
      "cell_type": "code",
      "source": [
        "from collections import defaultdict\n",
        "def twoSum(nums: list[int], target: int) -> list[int]:\n",
        "  check = defaultdict(int)\n",
        "  for i,v in enumerate(nums):\n",
        "    diff = target - v\n",
        "    if diff in check:\n",
        "      return [check[diff], i]\n",
        "    check[v] = i\n",
        "  return"
      ],
      "metadata": {
        "id": "HxbjWMs4Puu0"
      },
      "execution_count": null,
      "outputs": []
    },
    {
      "cell_type": "code",
      "source": [
        "twoSum(nums,target)"
      ],
      "metadata": {
        "colab": {
          "base_uri": "https://localhost:8080/"
        },
        "id": "bolqzDQwQiWd",
        "outputId": "34bcc16a-31bf-40fa-e65b-c6e8d16a76ef"
      },
      "execution_count": null,
      "outputs": [
        {
          "output_type": "execute_result",
          "data": {
            "text/plain": [
              "[0, 1]"
            ]
          },
          "metadata": {},
          "execution_count": 139
        }
      ]
    },
    {
      "cell_type": "code",
      "source": [
        "list(enumerate(nums))"
      ],
      "metadata": {
        "colab": {
          "base_uri": "https://localhost:8080/"
        },
        "id": "16OwK_0PQAcK",
        "outputId": "c086fcc8-8af6-4480-db2e-7f55105cfa8c"
      },
      "execution_count": null,
      "outputs": [
        {
          "output_type": "execute_result",
          "data": {
            "text/plain": [
              "[(0, 2), (1, 7), (2, 11), (3, 15)]"
            ]
          },
          "metadata": {},
          "execution_count": 136
        }
      ]
    },
    {
      "cell_type": "code",
      "source": [
        "a = {2:7,7:2,11:-2,15:-6}\n",
        "if a[2] in [2,7,11,15]:\n",
        "  print([a[2], a[2]==[2,7,11,15]])"
      ],
      "metadata": {
        "colab": {
          "base_uri": "https://localhost:8080/"
        },
        "id": "BpETSUWhKp4R",
        "outputId": "8c935f5f-8236-4ae1-8353-83b5daf25f01"
      },
      "execution_count": null,
      "outputs": [
        {
          "output_type": "stream",
          "name": "stdout",
          "text": [
            "[7, False]\n"
          ]
        }
      ]
    },
    {
      "cell_type": "markdown",
      "source": [
        "## Group Anagrams"
      ],
      "metadata": {
        "id": "FIafoQtMgUsh"
      }
    },
    {
      "cell_type": "code",
      "source": [
        "strs = [\"eat\",\"tea\",\"tan\",\"ate\",\"nat\",\"bat\"]"
      ],
      "metadata": {
        "id": "txUJL-UDgUh6"
      },
      "execution_count": null,
      "outputs": []
    },
    {
      "cell_type": "code",
      "source": [
        "from collections import defaultdict\n",
        "def groupAnagrams(strs:list[str])-> list[list[str]]:\n",
        "  group = defaultdict(list)\n",
        "  for s in strs:\n",
        "    sort = \"\".join(sorted(s))\n",
        "    group[sort].append(s)\n",
        "  return list(group.values())"
      ],
      "metadata": {
        "id": "fHtKVdOpgZ0B"
      },
      "execution_count": null,
      "outputs": []
    },
    {
      "cell_type": "code",
      "source": [
        "groupAnagrams(strs)"
      ],
      "metadata": {
        "colab": {
          "base_uri": "https://localhost:8080/"
        },
        "id": "OHybz09FjXZ5",
        "outputId": "38aea228-0ef2-4c22-cda0-4531175e2dcb"
      },
      "execution_count": null,
      "outputs": [
        {
          "output_type": "execute_result",
          "data": {
            "text/plain": [
              "[['eat', 'tea', 'ate'], ['tan', 'nat'], ['bat']]"
            ]
          },
          "metadata": {},
          "execution_count": 43
        }
      ]
    },
    {
      "cell_type": "markdown",
      "source": [
        "Roman numerals are represented by seven different symbols: I, V, X, L, C, D and M.\n",
        "\n",
        "Symbol       Value\n",
        "I             1\n",
        "V             5\n",
        "X             10\n",
        "L             50\n",
        "C             100\n",
        "D             500\n",
        "M             1000\n",
        "For example, 2 is written as II in Roman numeral, just two ones added together. 12 is written as XII, which is simply X + II. The number 27 is written as XXVII, which is XX + V + II.\n",
        "\n",
        "Roman numerals are usually written largest to smallest from left to right. However, the numeral for four is not IIII. Instead, the number four is written as IV. Because the one is before the five we subtract it making four. The same principle applies to the number nine, which is written as IX. There are six instances where subtraction is used:\n",
        "\n",
        "I can be placed before V (5) and X (10) to make 4 and 9.\n",
        "X can be placed before L (50) and C (100) to make 40 and 90.\n",
        "C can be placed before D (500) and M (1000) to make 400 and 900.\n",
        "Given a roman numeral, convert it to an integer.\n",
        "\n"
      ],
      "metadata": {
        "id": "v-aE2Lg7Di-n"
      }
    },
    {
      "cell_type": "code",
      "source": [
        "def romanToInt(s: str) -> int:\n",
        "  roman = {\n",
        "      \"I\":1,\n",
        "      \"V\":5,\n",
        "      \"X\":10,\n",
        "      \"L\":50,\n",
        "      \"C\":100,\n",
        "      \"D\":500,\n",
        "      \"M\":1000\n",
        "      }\n",
        "  value = 0\n",
        "  for i in range(len(s)-1):\n",
        "      if roman[s[i]] < roman[s[(i+1)]]:\n",
        "          value -= roman[s[i]]\n",
        "      else:\n",
        "          value += roman[s[i]]\n",
        "  return value+roman[s[-1]]"
      ],
      "metadata": {
        "id": "l_8NRGD8ptUV"
      },
      "execution_count": null,
      "outputs": []
    },
    {
      "cell_type": "code",
      "source": [
        "romanToInt('MIV')"
      ],
      "metadata": {
        "colab": {
          "base_uri": "https://localhost:8080/"
        },
        "id": "gJaqvT8uDaiM",
        "outputId": "d04cfaa9-dc5d-4e50-a213-c5233eac5747"
      },
      "execution_count": null,
      "outputs": [
        {
          "output_type": "execute_result",
          "data": {
            "text/plain": [
              "1004"
            ]
          },
          "metadata": {},
          "execution_count": 5
        }
      ]
    },
    {
      "cell_type": "markdown",
      "source": [
        "## Remove element"
      ],
      "metadata": {
        "id": "6RMDnDzNsVU_"
      }
    },
    {
      "cell_type": "code",
      "source": [
        "nums = [0,1,2,2,3,0,4,2]\n",
        "val = 3"
      ],
      "metadata": {
        "id": "06NNVwm3ser-"
      },
      "execution_count": null,
      "outputs": []
    },
    {
      "cell_type": "code",
      "source": [
        "def removeElement(nums: list[int], val: int) -> int:\n",
        "  while val in nums:\n",
        "    nums.remove(val)\n",
        "  return nums"
      ],
      "metadata": {
        "id": "j59mi7MXsX77"
      },
      "execution_count": null,
      "outputs": []
    },
    {
      "cell_type": "code",
      "source": [
        "removeElement(nums, val)"
      ],
      "metadata": {
        "colab": {
          "base_uri": "https://localhost:8080/"
        },
        "id": "6EsqnwZIseNE",
        "outputId": "e2893343-f425-4175-ce1b-61b462e12f81"
      },
      "execution_count": null,
      "outputs": [
        {
          "output_type": "execute_result",
          "data": {
            "text/plain": [
              "[0, 1, 2, 2, 0, 4, 2]"
            ]
          },
          "metadata": {},
          "execution_count": 11
        }
      ]
    },
    {
      "cell_type": "markdown",
      "source": [
        "# Two Pointers (Sliding Window)"
      ],
      "metadata": {
        "id": "qCeUYnqwjOov"
      }
    },
    {
      "cell_type": "markdown",
      "source": [
        "# Valid Palindrome"
      ],
      "metadata": {
        "id": "CzyXAqFv-_xU"
      }
    },
    {
      "cell_type": "code",
      "source": [
        "import re\n",
        "def isPalindrome(s: str) -> bool:\n",
        "    p = \"\".join(re.findall(r\"[a-zA-Z0-9]\",s)).lower()\n",
        "    return True if p == p[::-1] else False"
      ],
      "metadata": {
        "id": "ycLUsKx_F56N"
      },
      "execution_count": null,
      "outputs": []
    },
    {
      "cell_type": "code",
      "source": [
        "def isPalindrome1(s: str) -> bool:\n",
        "    string = []\n",
        "    for i in s.lower():\n",
        "      if i.isalnum():\n",
        "        string.append(i)\n",
        "    return string == string[::-1]"
      ],
      "metadata": {
        "id": "34XQvJKmXsuT"
      },
      "execution_count": null,
      "outputs": []
    },
    {
      "cell_type": "code",
      "source": [
        "def isPalindrome2(s: str) -> bool:\n",
        "   p = [i for i in s.lower() if i.isalnum()]\n",
        "   return p == p[::-1]"
      ],
      "metadata": {
        "id": "YyrBdTGCg9aL"
      },
      "execution_count": null,
      "outputs": []
    },
    {
      "cell_type": "code",
      "source": [
        "def palindrome(s: str) -> bool:\n",
        "  str = \"\"\n",
        "  for i in s.lower():\n",
        "    if i.isalnum():\n",
        "      str+=i\n",
        "  return str == str[::-1]"
      ],
      "metadata": {
        "id": "vE_ubFp3JoeL"
      },
      "execution_count": null,
      "outputs": []
    },
    {
      "cell_type": "code",
      "source": [
        "for i in s:\n",
        "  print(palindrome(i))"
      ],
      "metadata": {
        "colab": {
          "base_uri": "https://localhost:8080/"
        },
        "id": "vXfvYsABJ0qf",
        "outputId": "a2fcbcb5-73d5-439b-c86e-40e5a7969c18"
      },
      "execution_count": null,
      "outputs": [
        {
          "output_type": "stream",
          "name": "stdout",
          "text": [
            "True\n",
            "False\n",
            "True\n"
          ]
        }
      ]
    },
    {
      "cell_type": "code",
      "source": [
        "s = [\"A man, a plan, a canal: Panama\",\"race a car\",\" \"]"
      ],
      "metadata": {
        "id": "dD2RPPf3ZQ1s"
      },
      "execution_count": null,
      "outputs": []
    },
    {
      "cell_type": "code",
      "source": [
        "%time\n",
        "for i in s:\n",
        "  print(isPalindrome(i))"
      ],
      "metadata": {
        "colab": {
          "base_uri": "https://localhost:8080/"
        },
        "id": "5W5ayvwAZ-zz",
        "outputId": "5f101001-abd5-4946-8d98-fd5f73b891d5"
      },
      "execution_count": null,
      "outputs": [
        {
          "output_type": "stream",
          "name": "stdout",
          "text": [
            "CPU times: user 4 µs, sys: 0 ns, total: 4 µs\n",
            "Wall time: 6.91 µs\n",
            "True\n",
            "False\n",
            "True\n"
          ]
        }
      ]
    },
    {
      "cell_type": "code",
      "source": [
        "%time\n",
        "for i in s:\n",
        "  print(isPalindrome1(i))"
      ],
      "metadata": {
        "colab": {
          "base_uri": "https://localhost:8080/"
        },
        "id": "y_klmrqEZBR-",
        "outputId": "eb817f7a-7db1-401c-9fdd-8708bf2210cb"
      },
      "execution_count": null,
      "outputs": [
        {
          "output_type": "stream",
          "name": "stdout",
          "text": [
            "CPU times: user 3 µs, sys: 0 ns, total: 3 µs\n",
            "Wall time: 7.15 µs\n",
            "True\n",
            "False\n",
            "True\n"
          ]
        }
      ]
    },
    {
      "cell_type": "code",
      "source": [
        "%time\n",
        "for i in s:\n",
        "  print(isPalindrome2(i))"
      ],
      "metadata": {
        "colab": {
          "base_uri": "https://localhost:8080/"
        },
        "id": "jDnbiyFwZfyy",
        "outputId": "77810db1-8d00-42bd-9160-32282f5a00a8"
      },
      "execution_count": null,
      "outputs": [
        {
          "output_type": "stream",
          "name": "stdout",
          "text": [
            "CPU times: user 3 µs, sys: 0 ns, total: 3 µs\n",
            "Wall time: 7.63 µs\n",
            "True\n",
            "False\n",
            "True\n"
          ]
        }
      ]
    },
    {
      "cell_type": "markdown",
      "source": [
        "## Palindrome for a Number"
      ],
      "metadata": {
        "id": "to8ehhqAoUiI"
      }
    },
    {
      "cell_type": "code",
      "source": [
        "def numPalindrome(n: int) -> bool:\n",
        "  if n < 0:\n",
        "    return False\n",
        "\n",
        "  temp = n\n",
        "  reverse = 0\n",
        "\n",
        "  while temp != 0:\n",
        "    digit = n % 10\n",
        "    reverse = reverse * 10 + digit\n",
        "    temp //= 10\n",
        "  return reverse == n"
      ],
      "metadata": {
        "id": "m-arpfOgoXvn"
      },
      "execution_count": null,
      "outputs": []
    },
    {
      "cell_type": "code",
      "source": [
        "numPalindrome(1001)"
      ],
      "metadata": {
        "colab": {
          "base_uri": "https://localhost:8080/"
        },
        "id": "rXC8WgBooYON",
        "outputId": "7ea32027-7f99-49eb-c19a-229cef12fd6f"
      },
      "execution_count": null,
      "outputs": [
        {
          "output_type": "execute_result",
          "data": {
            "text/plain": [
              "False"
            ]
          },
          "metadata": {},
          "execution_count": 14
        }
      ]
    },
    {
      "cell_type": "markdown",
      "source": [
        "## Buy Low Sell High Stocks"
      ],
      "metadata": {
        "id": "_youUtT3td04"
      }
    },
    {
      "cell_type": "code",
      "source": [
        "prices = [7,1,5,3,6,4]"
      ],
      "metadata": {
        "id": "RySraLH4lcgq"
      },
      "execution_count": null,
      "outputs": []
    },
    {
      "cell_type": "code",
      "source": [
        "l = sorted(list(enumerate(prices)), key=lambda x:x[1])\n",
        "print(l)"
      ],
      "metadata": {
        "colab": {
          "base_uri": "https://localhost:8080/"
        },
        "id": "ezsg5tqhlxcd",
        "outputId": "f610b154-7ffe-4afa-9331-8007289f84b3"
      },
      "execution_count": null,
      "outputs": [
        {
          "output_type": "execute_result",
          "data": {
            "text/plain": [
              "[(1, 1), (3, 3), (5, 4), (2, 5), (4, 6), (0, 7)]"
            ]
          },
          "metadata": {},
          "execution_count": 10
        }
      ]
    },
    {
      "cell_type": "code",
      "source": [
        "buy=prices[0]\n",
        "sell=prices[0]\n",
        "current_profit = sell-buy\n",
        "for price in prices:\n",
        "  if price < buy:\n",
        "    buy = price\n",
        "    sell = price\n",
        "  if price > sell:\n",
        "    sell = price\n",
        "current_profit = sell-buy\n",
        "print(current_profit)"
      ],
      "metadata": {
        "colab": {
          "base_uri": "https://localhost:8080/"
        },
        "id": "hPM5WXcOwag2",
        "outputId": "81893aab-31ea-4648-f093-c10dd79c79e2"
      },
      "execution_count": null,
      "outputs": [
        {
          "output_type": "stream",
          "name": "stdout",
          "text": [
            "5\n"
          ]
        }
      ]
    },
    {
      "cell_type": "code",
      "source": [
        "def maxProfit(prices: list) -> int:\n",
        "  buy, sell = prices[0], prices[0]\n",
        "  current_profit = sell-buy\n",
        "  for price in prices:\n",
        "    if price < buy:\n",
        "      buy=price\n",
        "      sell=price\n",
        "    if price > sell:\n",
        "      sell=price\n",
        "    if sell - buy > current_profit:\n",
        "      current_profit = sell - buy\n",
        "  return current_profit"
      ],
      "metadata": {
        "id": "dla9eAVEwk96"
      },
      "execution_count": null,
      "outputs": []
    },
    {
      "cell_type": "code",
      "source": [
        "def maxProfit1(prices: list) -> int:\n",
        "  buy, sell = 0,1\n",
        "  max_profit = 0\n",
        "  while sell < len(prices):\n",
        "    if prices[buy] < prices[sell]:\n",
        "      profit = prices[sell] - prices[buy]\n",
        "      max_profit = max(max_profit, profit)\n",
        "    else:\n",
        "      buy = sell\n",
        "    sell += 1\n",
        "  return max_profit"
      ],
      "metadata": {
        "id": "bH0goad60cY2"
      },
      "execution_count": null,
      "outputs": []
    },
    {
      "cell_type": "code",
      "source": [
        "%time\n",
        "maxProfit(prices)"
      ],
      "metadata": {
        "colab": {
          "base_uri": "https://localhost:8080/"
        },
        "id": "9XAwnH_EveoO",
        "outputId": "b7edf946-a141-4ecf-c470-9754336383d3"
      },
      "execution_count": null,
      "outputs": [
        {
          "output_type": "stream",
          "name": "stdout",
          "text": [
            "CPU times: user 4 µs, sys: 0 ns, total: 4 µs\n",
            "Wall time: 8.58 µs\n"
          ]
        },
        {
          "output_type": "execute_result",
          "data": {
            "text/plain": [
              "5"
            ]
          },
          "metadata": {},
          "execution_count": 32
        }
      ]
    },
    {
      "cell_type": "code",
      "source": [
        "%time\n",
        "maxProfit1(prices)"
      ],
      "metadata": {
        "colab": {
          "base_uri": "https://localhost:8080/"
        },
        "id": "iTQpTW-PxS8u",
        "outputId": "8fa920e9-c413-413e-bb89-2dbdcb4de12f"
      },
      "execution_count": null,
      "outputs": [
        {
          "output_type": "stream",
          "name": "stdout",
          "text": [
            "CPU times: user 4 µs, sys: 0 ns, total: 4 µs\n",
            "Wall time: 8.11 µs\n"
          ]
        },
        {
          "output_type": "execute_result",
          "data": {
            "text/plain": [
              "5"
            ]
          },
          "metadata": {},
          "execution_count": 33
        }
      ]
    },
    {
      "cell_type": "markdown",
      "source": [
        "## 2 Point Sum - Sorted list"
      ],
      "metadata": {
        "id": "bxKjLPFRC27K"
      }
    },
    {
      "cell_type": "code",
      "source": [
        "def twoSum(numbers:list[int], target:int) -> list[int]:\n",
        "  l,r = 0,len(numbers)-1\n",
        "  while numbers[l]+numbers[r]!=target:\n",
        "    sum = numbers[l]+numbers[r]\n",
        "    if sum < target:\n",
        "      l+=1\n",
        "    elif sum > target:\n",
        "      r-=1\n",
        "  return [l+1,r+1]"
      ],
      "metadata": {
        "id": "4sh3Sou-C3qv"
      },
      "execution_count": null,
      "outputs": []
    },
    {
      "cell_type": "markdown",
      "source": [
        "# Stack"
      ],
      "metadata": {
        "id": "Lm7dHjT_yzgQ"
      }
    },
    {
      "cell_type": "markdown",
      "source": [
        "## Valid Closing Parentheses (LIFO)"
      ],
      "metadata": {
        "id": "Me9FPIbd011q"
      }
    },
    {
      "cell_type": "code",
      "source": [
        "def isValid(s: str) -> bool:\n",
        "  stack = []\n",
        "  pairs = {\n",
        "      '(':')',\n",
        "      '{':'}',\n",
        "      '[':']'\n",
        "  }\n",
        "  for bracket in s:\n",
        "    if bracket in pairs:\n",
        "      stack.append(bracket)\n",
        "    elif len(stack)==0 or bracket != pairs[stack.pop()]:\n",
        "      return False\n",
        "\n",
        "  return len(stack)==0"
      ],
      "metadata": {
        "id": "tCtW_EN2xVNg"
      },
      "execution_count": null,
      "outputs": []
    },
    {
      "cell_type": "code",
      "source": [
        "isValid(\"()[]{}\")"
      ],
      "metadata": {
        "colab": {
          "base_uri": "https://localhost:8080/"
        },
        "id": "jeWjGFgU0A6E",
        "outputId": "188e07a8-c683-4983-ab57-296336e500d3"
      },
      "execution_count": null,
      "outputs": [
        {
          "output_type": "execute_result",
          "data": {
            "text/plain": [
              "True"
            ]
          },
          "metadata": {},
          "execution_count": 50
        }
      ]
    },
    {
      "cell_type": "markdown",
      "source": [
        "# Binary Search"
      ],
      "metadata": {
        "id": "hIrpUnKVoh-W"
      }
    },
    {
      "cell_type": "code",
      "source": [
        "nums = [-1,0,3,5,9,12]\n",
        "nums1 = []\n",
        "target = 9"
      ],
      "metadata": {
        "id": "cjs8kjmUpZ1S"
      },
      "execution_count": null,
      "outputs": []
    },
    {
      "cell_type": "code",
      "source": [
        "def search(nums: list[int], target: int)-> int:\n",
        "  find = [i for i,v in enumerate(nums) if v == target]\n",
        "  if find == []:\n",
        "    return -1\n",
        "  return find[0]"
      ],
      "metadata": {
        "id": "BpNXVVXbohgi"
      },
      "execution_count": null,
      "outputs": []
    },
    {
      "cell_type": "code",
      "source": [
        "search(nums1, target)"
      ],
      "metadata": {
        "colab": {
          "base_uri": "https://localhost:8080/"
        },
        "id": "PbFjEA7v2ulD",
        "outputId": "3547a395-02e2-47fc-880a-58b2bacd0083"
      },
      "execution_count": null,
      "outputs": [
        {
          "output_type": "execute_result",
          "data": {
            "text/plain": [
              "-1"
            ]
          },
          "metadata": {},
          "execution_count": 67
        }
      ]
    },
    {
      "cell_type": "markdown",
      "source": [
        "## Binary Search approach O(logn)"
      ],
      "metadata": {
        "id": "VsDfy0G8swLh"
      }
    },
    {
      "cell_type": "code",
      "source": [
        "def search1(nums: list[int], target: int)-> int:\n",
        "  l,r = 0, len(nums)-1 # l = left, r = right\n",
        "  while l <= r:\n",
        "    m = l +((r-l)//2) # m = mid point\n",
        "    if nums[m] > target:\n",
        "      r = m - 1\n",
        "    elif nums[m] < target:\n",
        "      l = m + 1\n",
        "    else:\n",
        "      return m\n",
        "  return -1"
      ],
      "metadata": {
        "id": "Y7AF6YIOp4qL"
      },
      "execution_count": null,
      "outputs": []
    },
    {
      "cell_type": "markdown",
      "source": [
        "## Largest Subarray"
      ],
      "metadata": {
        "id": "DqXdIiAByu3A"
      }
    },
    {
      "cell_type": "code",
      "source": [
        "nums = [-2,1,-3,4,-1,2,1,-5,4]"
      ],
      "metadata": {
        "id": "2iFUCnKAzAxY"
      },
      "execution_count": null,
      "outputs": []
    },
    {
      "cell_type": "code",
      "source": [
        "def maxSubArray(nums: list[int]) -> int:\n",
        "  maxsum = nums[0]\n",
        "  sum = 0\n",
        "\n",
        "  for num in nums:\n",
        "    if sum < 0:\n",
        "      sum = 0\n",
        "    sum += num\n",
        "    maxsum = max(maxsum, sum)\n",
        "  return maxsum"
      ],
      "metadata": {
        "id": "RoJcHDZ4sife"
      },
      "execution_count": null,
      "outputs": []
    },
    {
      "cell_type": "code",
      "source": [
        "maxSubArray(nums)"
      ],
      "metadata": {
        "colab": {
          "base_uri": "https://localhost:8080/"
        },
        "id": "L6W-F1y11o-D",
        "outputId": "bf9c11fb-c3cf-43ce-dd9d-61d94806cf2c"
      },
      "execution_count": null,
      "outputs": [
        {
          "output_type": "execute_result",
          "data": {
            "text/plain": [
              "6"
            ]
          },
          "metadata": {},
          "execution_count": 3
        }
      ]
    },
    {
      "cell_type": "code",
      "source": [
        "def returnSubArray(nums: list[int]) -> list[int]:\n",
        "  maxsum = [nums[0]]\n",
        "  cursum = []\n",
        "\n",
        "  for num in nums:\n",
        "    if sum(cursum) < 0:\n",
        "      cursum = []\n",
        "    cursum.append(num)\n",
        "    cursubsum = sum(cursum)\n",
        "    maxsubsum = sum(maxsum)\n",
        "    if cursubsum > maxsubsum:\n",
        "      maxsum = cursum\n",
        "  return maxsum"
      ],
      "metadata": {
        "id": "7r9qh9Qh1r25"
      },
      "execution_count": null,
      "outputs": []
    },
    {
      "cell_type": "code",
      "source": [
        "returnSubArray(nums)"
      ],
      "metadata": {
        "colab": {
          "base_uri": "https://localhost:8080/"
        },
        "id": "q50vGqnN4BeA",
        "outputId": "7088935e-cbb6-474e-80dc-cc4d6b50cb1a"
      },
      "execution_count": null,
      "outputs": [
        {
          "output_type": "execute_result",
          "data": {
            "text/plain": [
              "[4, -1, 2, 1, -5, 4]"
            ]
          },
          "metadata": {},
          "execution_count": 41
        }
      ]
    },
    {
      "cell_type": "code",
      "source": [
        "def maxSubArray1(nums: list[int]) -> int:\n",
        "  maxSum,subArray = nums[0],0\n",
        "\n",
        "  for i in range(len(nums)):\n",
        "    subArray += nums[i]\n",
        "    maxSum = max(maxSum, subArray)\n",
        "    subArray = max(subArray, 0)\n",
        "  return maxSum"
      ],
      "metadata": {
        "id": "l-Z5NSyZ-H31"
      },
      "execution_count": null,
      "outputs": []
    },
    {
      "cell_type": "code",
      "source": [
        "maxSubArray1([-1])"
      ],
      "metadata": {
        "colab": {
          "base_uri": "https://localhost:8080/"
        },
        "id": "aoGwvBKI_PVr",
        "outputId": "2269183b-a382-4b32-954a-41c8c7b2d5c4"
      },
      "execution_count": null,
      "outputs": [
        {
          "output_type": "execute_result",
          "data": {
            "text/plain": [
              "-1"
            ]
          },
          "metadata": {},
          "execution_count": 48
        }
      ]
    },
    {
      "cell_type": "markdown",
      "source": [
        "# Spotify interview question"
      ],
      "metadata": {
        "id": "L0AsuLB6TtLS"
      }
    },
    {
      "cell_type": "markdown",
      "source": [
        "For the `window_size` defined in the constructor, when accept() is called,\n",
        "return the average of the last `window_size` values seen.  If we haven't\n",
        "seen `window_size` values yet, return the average of the values we have\n",
        "seen.\n",
        "\n",
        "i.e: If `window_size` == 3, then when accept(x) is called return the\n",
        "average of the last 3 numbers `accept` has recieved."
      ],
      "metadata": {
        "id": "MrP5kURDT5lC"
      }
    },
    {
      "cell_type": "code",
      "source": [
        "import unittest\n",
        "\n",
        "class WindowedAverager:\n",
        "\n",
        "    # Constructor\n",
        "    def __init__(self, window_size: int):\n",
        "        self.window_size = window_size\n",
        "        \"\"\"\n",
        "        Include a list to save each value of 'accept' to know what to\n",
        "        average across\n",
        "        \"\"\"\n",
        "        self.l = []\n",
        "\n",
        "    def accept(self, x: int) -> float:\n",
        "        \"\"\"\n",
        "        Args:\n",
        "            x (int): The value to add to the window\n",
        "\n",
        "        Returns:\n",
        "            float: The average of the last `window_size` values seen.  If we\n",
        "                haven't seen `window_size` values yet, return the average\n",
        "                of all values currently in the window.\n",
        "        \"\"\"\n",
        "        self.l.append(x)\n",
        "        if len(self.l) > self.window_size:\n",
        "            self.l.pop(0)\n",
        "\n",
        "        return sum(self.l)/ len(self.l)\n",
        "\n",
        "\n",
        "\n",
        "# RUNNER - DO NOT CHANGE\n",
        "class TestHandler(unittest.TestCase):\n",
        "    def test_handler(self):\n",
        "        sh = WindowedAverager(3)\n",
        "        self.assertEqual(sh.accept(1), 1.0)\n",
        "        self.assertEqual(sh.accept(2), 1.5)\n",
        "        self.assertEqual(sh.accept(3), 2.0)\n",
        "        self.assertEqual(sh.accept(4), 3.0)\n",
        "\n",
        "testclass = unittest.main(exit=False)\n",
        "if testclass.result.wasSuccessful():\n",
        "    print(\"Test pass -- woohoo!\")"
      ],
      "metadata": {
        "id": "4TmZCbzu_SDV"
      },
      "execution_count": null,
      "outputs": []
    },
    {
      "cell_type": "code",
      "source": [
        "def accept(x: int, window_size: int) -> float:\n",
        "  l = []\n",
        "  l.append(x)\n",
        "  if len(l) > window_size:\n",
        "    l.pop(0)\n",
        "  return sum(l)/ len(l)"
      ],
      "metadata": {
        "id": "EaPAA-uLUU3T"
      },
      "execution_count": null,
      "outputs": []
    },
    {
      "cell_type": "markdown",
      "source": [
        "# Longest Prefix"
      ],
      "metadata": {
        "id": "wlej0MXAhp4d"
      }
    },
    {
      "cell_type": "code",
      "source": [
        "strs = [\"flower\",\"flow\",\"flight\"]"
      ],
      "metadata": {
        "id": "I2XgKrM_h0V3"
      },
      "execution_count": null,
      "outputs": []
    },
    {
      "cell_type": "code",
      "source": [
        "def longestCommonPrefix(strs: list[str]) -> str:\n",
        "  ans = \"\"\n",
        "  w = sorted(strs)\n",
        "  f,l = w[0],w[-1]\n",
        "  for i in range(min(len(f),len(l))):\n",
        "      if f[i] != l[i]:\n",
        "          return ans\n",
        "      else:\n",
        "          ans += f[i]\n",
        "  return ans"
      ],
      "metadata": {
        "id": "GkDUrbYYDd92"
      },
      "execution_count": null,
      "outputs": []
    },
    {
      "cell_type": "code",
      "source": [
        "longestCommonPrefix(strs)"
      ],
      "metadata": {
        "colab": {
          "base_uri": "https://localhost:8080/",
          "height": 35
        },
        "id": "WLM3KDKThjkc",
        "outputId": "d4d50bc7-3d9c-417a-a36c-fafc5419598c"
      },
      "execution_count": null,
      "outputs": [
        {
          "output_type": "execute_result",
          "data": {
            "text/plain": [
              "'fl'"
            ],
            "application/vnd.google.colaboratory.intrinsic+json": {
              "type": "string"
            }
          },
          "metadata": {},
          "execution_count": 4
        }
      ]
    },
    {
      "cell_type": "code",
      "source": [
        "for i, chars in enumerate(zip(*strs)):\n",
        "  print(chars)"
      ],
      "metadata": {
        "colab": {
          "base_uri": "https://localhost:8080/"
        },
        "id": "x9WFVltZmF9s",
        "outputId": "a342f1cc-2a8e-4a8b-ba9c-5ceea050c904"
      },
      "execution_count": null,
      "outputs": [
        {
          "output_type": "stream",
          "name": "stdout",
          "text": [
            "('f', 'f', 'f')\n",
            "('l', 'l', 'l')\n",
            "('o', 'o', 'i')\n",
            "('w', 'w', 'g')\n"
          ]
        }
      ]
    },
    {
      "cell_type": "markdown",
      "source": [
        "zip takes iterables and returns a single iterator object, therefore, running all at the same time.\n",
        "\n",
        "So combining it with enumerate(zip(*)) returns:\n",
        "\n",
        "0 (v,v,v)\n",
        "1 (v,v,v"
      ],
      "metadata": {
        "id": "11QbDwI95v6Z"
      }
    },
    {
      "cell_type": "code",
      "source": [
        "def longestCommonPrefix1(strs: list[str]) -> str:\n",
        "  result = \"\"\n",
        "  for i, chars in enumerate(zip(*strs)):\n",
        "      if len(set(chars)) != 1:\n",
        "          return result\n",
        "      result += chars[0]\n",
        "  return result"
      ],
      "metadata": {
        "id": "f0IHBLAVmJS_"
      },
      "execution_count": null,
      "outputs": []
    },
    {
      "cell_type": "code",
      "source": [
        "longestCommonPrefix1(strs)"
      ],
      "metadata": {
        "colab": {
          "base_uri": "https://localhost:8080/",
          "height": 35
        },
        "id": "WW8jHK2KoNLc",
        "outputId": "730cd9d0-e7bf-4a4d-ebe1-6981e6d5383d"
      },
      "execution_count": null,
      "outputs": [
        {
          "output_type": "execute_result",
          "data": {
            "text/plain": [
              "'fl'"
            ],
            "application/vnd.google.colaboratory.intrinsic+json": {
              "type": "string"
            }
          },
          "metadata": {},
          "execution_count": 27
        }
      ]
    },
    {
      "cell_type": "code",
      "source": [],
      "metadata": {
        "id": "lKf-RFQ0sIpJ"
      },
      "execution_count": null,
      "outputs": []
    }
  ]
}